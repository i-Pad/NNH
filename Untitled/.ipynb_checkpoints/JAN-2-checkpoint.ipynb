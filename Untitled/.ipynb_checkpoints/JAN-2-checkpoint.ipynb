{
 "cells": [
  {
   "cell_type": "code",
   "execution_count": 1,
   "id": "751750bb",
   "metadata": {},
   "outputs": [
    {
     "name": "stderr",
     "output_type": "stream",
     "text": [
      "/home/omg0207/.local/lib/python3.8/site-packages/tqdm/auto.py:22: TqdmWarning: IProgress not found. Please update jupyter and ipywidgets. See https://ipywidgets.readthedocs.io/en/stable/user_install.html\n",
      "  from .autonotebook import tqdm as notebook_tqdm\n"
     ]
    }
   ],
   "source": [
    "import torch\n",
    "import torch.nn as nn\n",
    "import torch.optim as optim\n",
    "import torch.nn.functional as F\n",
    "\n",
    "import numpy as np\n",
    "import matplotlib.pyplot as plt"
   ]
  },
  {
   "cell_type": "code",
   "execution_count": 2,
   "id": "8628feee",
   "metadata": {},
   "outputs": [],
   "source": [
    "from numpy.linalg import inv, det\n",
    "from tqdm import tqdm\n",
    "from time import sleep\n",
    "\n",
    "from torch import sigmoid, tanh\n",
    "from torch import Tensor, exp, log\n",
    "from torch.nn import Sequential\n",
    "from torch.nn.parameter import Parameter\n",
    "from torch.nn.init import xavier_uniform_\n",
    "from torch.nn.init import uniform_\n",
    "from torch.nn.functional import linear\n",
    "\n",
    "from torch.utils.data import TensorDataset\n",
    "from torch.utils.data import DataLoader"
   ]
  },
  {
   "cell_type": "markdown",
   "id": "dd1b29c7",
   "metadata": {},
   "source": [
    "paper: Neural Arithmetic Logic Units (https://arxiv.org/pdf/1808.00508.pdf)"
   ]
  },
  {
   "cell_type": "code",
   "execution_count": 3,
   "id": "cb7a1f85",
   "metadata": {},
   "outputs": [],
   "source": [
    "class NacCell(nn.Module):\n",
    "    def __init__(self, in_shape, out_shape):\n",
    "        super().__init__()\n",
    "        self.in_shape = in_shape\n",
    "        self.out_shape = out_shape\n",
    "\n",
    "        self.W_ = Parameter(Tensor(out_shape, in_shape))\n",
    "        self.M_ = Parameter(Tensor(out_shape, in_shape))\n",
    "\n",
    "        uniform_(self.W_, 0.0, 1.0), uniform_(self.M_, 0.0, 1.0)\n",
    "        self.register_parameter('bias', None)\n",
    "\n",
    "    # a = Wx\n",
    "    # W = tanh(W) * sigmoid(M)\n",
    "    # * is elementwise product\n",
    "    def forward(self, X):\n",
    "        #print('W:', self.W_.shape, 'X:', X.shape)\n",
    "        W = tanh(self.W_) * sigmoid(self.M_)\n",
    "\n",
    "        # linear: XW^T + b\n",
    "        return linear(X, W, self.bias)\n",
    "        #return torch.matmul(X, W.T)"
   ]
  },
  {
   "cell_type": "code",
   "execution_count": 4,
   "id": "df8cca41",
   "metadata": {},
   "outputs": [],
   "source": [
    "class NaluCell(nn.Module):\n",
    "    def __init__(self, in_shape, out_shape):\n",
    "        super().__init__()\n",
    "        self.in_shape = in_shape\n",
    "        self.out_shape = out_shape\n",
    "\n",
    "        self.G = Parameter(Tensor(out_shape, in_shape))\n",
    "        self.nac = NacCell(in_shape, out_shape)\n",
    "\n",
    "        uniform_(self.G, 0.0, 1.0)\n",
    "        # epsilon prevents log0\n",
    "        self.eps = 1e-5\n",
    "        self.register_parameter('bias', None)\n",
    "\n",
    "    # y = g * a + (1 - g) * m\n",
    "    # m = exp W(log(|x| + e)), g = sigmoid(Gx)\n",
    "    # * is elementwise product\n",
    "    # a is from nac\n",
    "    def forward(self, X):\n",
    "        a = self.nac(X)\n",
    "        g = sigmoid(linear(X, self.G, self.bias))\n",
    "\n",
    "        ag = g * a\n",
    "        log_in = log(abs(X) + self.eps)\n",
    "        m = exp(self.nac(log_in))\n",
    "        md = (1 - g) * m\n",
    "\n",
    "        return ag + md"
   ]
  },
  {
   "cell_type": "code",
   "execution_count": 5,
   "id": "9a20ef82",
   "metadata": {},
   "outputs": [],
   "source": [
    "class NaluLayer(nn.Module):\n",
    "    def __init__(self, input_shape, output_shape, n_layers, hidden_shape):\n",
    "        super().__init__()\n",
    "        self.input_shape = input_shape\n",
    "        self.output_shape = output_shape\n",
    "        self.n_layers = n_layers\n",
    "        self.hidden_shape = hidden_shape\n",
    "        \n",
    "        layers = [NaluCell(hidden_shape if n > 0 else input_shape, hidden_shape if n < n_layers - 1 else output_shape) for n in range(n_layers)]\n",
    "        self.model = Sequential(*layers)\n",
    "\n",
    "    def forward(self, X):\n",
    "        return self.model(X)"
   ]
  },
  {
   "cell_type": "code",
   "execution_count": 6,
   "id": "192b595a",
   "metadata": {},
   "outputs": [],
   "source": [
    "class NALU(nn.Module):\n",
    "    def __init__(self, input_shape, output_shape, n_layers, hidden_shape):\n",
    "        super().__init__()\n",
    "        self.nalu1 = NaluLayer(input_shape, output_shape, n_layers, hidden_shape)\n",
    "\n",
    "        print('input: {}, output: {}, n: {}, hidden: {}'.format(input_shape, output_shape, n_layers, hidden_shape))\n",
    "        \n",
    "    def forward(self, X):\n",
    "        X = self.nalu1(X)\n",
    "        X = X.squeeze()\n",
    "\n",
    "        return X"
   ]
  },
  {
   "cell_type": "code",
   "execution_count": 7,
   "id": "73689b5e",
   "metadata": {},
   "outputs": [],
   "source": [
    "num = 1\n",
    "n_train = 100000\n",
    "X_train = []\n",
    "y_train = []\n",
    "\n",
    "while num <= n_train:\n",
    "    A = np.random.randint(1, 50, size=(2, 2))\n",
    "    \n",
    "    if det(A) == 0:\n",
    "        continue\n",
    "    else:\n",
    "        A = A.astype(np.float32)\n",
    "        X_train.append(A)\n",
    "        y_train.append(det(A))\n",
    "        num += 1"
   ]
  },
  {
   "cell_type": "code",
   "execution_count": 8,
   "id": "cbc9f45e",
   "metadata": {},
   "outputs": [],
   "source": [
    "X_train = np.array(X_train)\n",
    "y_train = np.array(y_train)\n",
    "\n",
    "X_train = torch.from_numpy(X_train)\n",
    "X_train = X_train.reshape(n_train, 4)\n",
    "y_train = torch.from_numpy(y_train)"
   ]
  },
  {
   "cell_type": "code",
   "execution_count": 9,
   "id": "1e2b03ed",
   "metadata": {},
   "outputs": [
    {
     "name": "stdout",
     "output_type": "stream",
     "text": [
      "torch.Size([100000, 4])\n"
     ]
    },
    {
     "data": {
      "text/plain": [
       "tensor([[ 2., 23., 22., 49.],\n",
       "        [32., 37., 13., 27.],\n",
       "        [11., 15., 17., 47.],\n",
       "        ...,\n",
       "        [26., 37., 46., 10.],\n",
       "        [44., 28.,  7., 21.],\n",
       "        [39., 38., 26., 35.]])"
      ]
     },
     "execution_count": 9,
     "metadata": {},
     "output_type": "execute_result"
    }
   ],
   "source": [
    "print(X_train.shape)\n",
    "X_train"
   ]
  },
  {
   "cell_type": "code",
   "execution_count": 10,
   "id": "6271b694",
   "metadata": {},
   "outputs": [
    {
     "name": "stdout",
     "output_type": "stream",
     "text": [
      "torch.Size([100000])\n"
     ]
    },
    {
     "data": {
      "text/plain": [
       "tensor([ -408.,   383.,   262.,  ..., -1442.,   728.,   377.])"
      ]
     },
     "execution_count": 10,
     "metadata": {},
     "output_type": "execute_result"
    }
   ],
   "source": [
    "print(y_train.shape)\n",
    "y_train"
   ]
  },
  {
   "cell_type": "code",
   "execution_count": 11,
   "id": "65cf4f45",
   "metadata": {},
   "outputs": [
    {
     "data": {
      "text/plain": [
       "device(type='cuda', index=0)"
      ]
     },
     "execution_count": 11,
     "metadata": {},
     "output_type": "execute_result"
    }
   ],
   "source": [
    "device = torch.device('cuda:0' if torch.cuda.is_available() else 'cpu')\n",
    "device"
   ]
  },
  {
   "cell_type": "code",
   "execution_count": 12,
   "id": "1fcde23f",
   "metadata": {},
   "outputs": [
    {
     "name": "stdout",
     "output_type": "stream",
     "text": [
      "input: 4, output: 1, n: 2, hidden: 2\n"
     ]
    }
   ],
   "source": [
    "model = NALU(input_shape=4, output_shape=1, n_layers=2, hidden_shape=2)"
   ]
  },
  {
   "cell_type": "code",
   "execution_count": 13,
   "id": "055b640b",
   "metadata": {},
   "outputs": [
    {
     "name": "stdout",
     "output_type": "stream",
     "text": [
      "nalu1.model.0.G tensor([[0.0786, 0.9412, 0.4504, 0.5933],\n",
      "        [0.1864, 0.1190, 0.4838, 0.3614]])\n",
      "nalu1.model.0.nac.W_ tensor([[0.2798, 0.7301, 0.8155, 0.7221],\n",
      "        [0.6202, 0.5893, 0.3977, 0.4737]])\n",
      "nalu1.model.0.nac.M_ tensor([[0.7894, 0.4898, 0.2897, 0.4873],\n",
      "        [0.9348, 0.7410, 0.9530, 0.8245]])\n",
      "nalu1.model.1.G tensor([[0.3794, 0.1150]])\n",
      "nalu1.model.1.nac.W_ tensor([[0.8524, 0.8021]])\n",
      "nalu1.model.1.nac.M_ tensor([[0.6254, 0.5972]])\n"
     ]
    }
   ],
   "source": [
    "for name, param in model.named_parameters():\n",
    "  print(name, param.data)"
   ]
  },
  {
   "cell_type": "code",
   "execution_count": 14,
   "id": "7d424efa",
   "metadata": {},
   "outputs": [
    {
     "data": {
      "text/plain": [
       "tensor([[ 2., 23., 22., 49.],\n",
       "        [32., 37., 13., 27.],\n",
       "        [11., 15., 17., 47.],\n",
       "        ...,\n",
       "        [26., 37., 46., 10.],\n",
       "        [44., 28.,  7., 21.],\n",
       "        [39., 38., 26., 35.]], device='cuda:0')"
      ]
     },
     "execution_count": 14,
     "metadata": {},
     "output_type": "execute_result"
    }
   ],
   "source": [
    "model.to(device)\n",
    "X_train = X_train.to(device)\n",
    "y_train = y_train.to(device)\n",
    "\n",
    "X_train"
   ]
  },
  {
   "cell_type": "code",
   "execution_count": 15,
   "id": "76503baa",
   "metadata": {},
   "outputs": [
    {
     "data": {
      "text/plain": [
       "<torch.utils.data.dataset.TensorDataset at 0x7fca9f3b2460>"
      ]
     },
     "execution_count": 15,
     "metadata": {},
     "output_type": "execute_result"
    }
   ],
   "source": [
    "dataset = TensorDataset(X_train, y_train)\n",
    "dataset"
   ]
  },
  {
   "cell_type": "code",
   "execution_count": 16,
   "id": "288e2a53",
   "metadata": {},
   "outputs": [],
   "source": [
    "b_size = 128\n",
    "dataloader = DataLoader(dataset, batch_size=b_size, shuffle=True)\n",
    "optimizer = optim.Adam(model.parameters(), lr=0.001)"
   ]
  },
  {
   "cell_type": "code",
   "execution_count": 17,
   "id": "c55c7aca",
   "metadata": {},
   "outputs": [],
   "source": [
    "epochs = 100\n",
    "cur_loss = 0.0\n",
    "epos = []\n",
    "los = []"
   ]
  },
  {
   "cell_type": "code",
   "execution_count": 18,
   "id": "2f8428c1",
   "metadata": {
    "scrolled": false
   },
   "outputs": [
    {
     "name": "stderr",
     "output_type": "stream",
     "text": [
      "Epoch 1/100: 100%|██████████| 782/782 [00:04<00:00, 195.34it/s, loss=4.74e+5]\n",
      "Epoch 2/100: 100%|██████████| 782/782 [00:05<00:00, 145.62it/s, loss=3.34e+5]\n",
      "Epoch 3/100: 100%|██████████| 782/782 [00:05<00:00, 143.73it/s, loss=2.97e+5]\n",
      "Epoch 4/100: 100%|██████████| 782/782 [00:04<00:00, 160.76it/s, loss=4e+5]   \n",
      "Epoch 5/100: 100%|██████████| 782/782 [00:04<00:00, 165.22it/s, loss=2.31e+5]\n",
      "Epoch 6/100: 100%|██████████| 782/782 [00:05<00:00, 144.85it/s, loss=1.58e+5]\n",
      "Epoch 7/100: 100%|██████████| 782/782 [00:04<00:00, 163.39it/s, loss=3.69e+5]\n",
      "Epoch 8/100: 100%|██████████| 782/782 [00:05<00:00, 145.14it/s, loss=1.76e+5]\n",
      "Epoch 9/100: 100%|██████████| 782/782 [00:05<00:00, 143.02it/s, loss=4.91e+4]\n",
      "Epoch 10/100: 100%|██████████| 782/782 [00:04<00:00, 164.72it/s, loss=4.12e+4]\n",
      "Epoch 11/100: 100%|██████████| 782/782 [00:05<00:00, 145.72it/s, loss=7.09e+3]\n",
      "Epoch 12/100: 100%|██████████| 782/782 [00:04<00:00, 164.65it/s, loss=4.02e+3]\n",
      "Epoch 13/100: 100%|██████████| 782/782 [00:04<00:00, 174.34it/s, loss=532]    \n",
      "Epoch 14/100: 100%|██████████| 782/782 [00:04<00:00, 186.75it/s, loss=2.08e+3]\n",
      "Epoch 15/100: 100%|██████████| 782/782 [00:04<00:00, 194.82it/s, loss=880]    \n",
      "Epoch 16/100: 100%|██████████| 782/782 [00:04<00:00, 168.30it/s, loss=2.02e+3]\n",
      "Epoch 17/100: 100%|██████████| 782/782 [00:04<00:00, 177.12it/s, loss=231]    \n",
      "Epoch 18/100: 100%|██████████| 782/782 [00:04<00:00, 178.34it/s, loss=222]    \n",
      "Epoch 19/100: 100%|██████████| 782/782 [00:04<00:00, 175.02it/s, loss=537]    \n",
      "Epoch 20/100: 100%|██████████| 782/782 [00:04<00:00, 171.20it/s, loss=175]    \n",
      "Epoch 21/100: 100%|██████████| 782/782 [00:04<00:00, 167.78it/s, loss=292] \n",
      "Epoch 22/100: 100%|██████████| 782/782 [00:04<00:00, 178.00it/s, loss=359]    \n",
      "Epoch 23/100: 100%|██████████| 782/782 [00:04<00:00, 173.16it/s, loss=94]  \n",
      "Epoch 24/100: 100%|██████████| 782/782 [00:04<00:00, 168.82it/s, loss=38.2]\n",
      "Epoch 25/100: 100%|██████████| 782/782 [00:04<00:00, 165.16it/s, loss=125] \n",
      "Epoch 26/100: 100%|██████████| 782/782 [00:04<00:00, 173.72it/s, loss=180] \n",
      "Epoch 27/100: 100%|██████████| 782/782 [00:04<00:00, 170.51it/s, loss=21.6]\n",
      "Epoch 28/100: 100%|██████████| 782/782 [00:04<00:00, 169.62it/s, loss=35.4]\n",
      "Epoch 29/100: 100%|██████████| 782/782 [00:04<00:00, 188.37it/s, loss=4.94]\n",
      "Epoch 30/100: 100%|██████████| 782/782 [00:04<00:00, 178.19it/s, loss=7.63]\n",
      "Epoch 31/100: 100%|██████████| 782/782 [00:04<00:00, 172.73it/s, loss=3.29]\n",
      "Epoch 32/100: 100%|██████████| 782/782 [00:04<00:00, 172.19it/s, loss=10.1]\n",
      "Epoch 33/100: 100%|██████████| 782/782 [00:04<00:00, 170.90it/s, loss=3.26]\n",
      "Epoch 34/100: 100%|██████████| 782/782 [00:03<00:00, 197.49it/s, loss=7.89]\n",
      "Epoch 35/100: 100%|██████████| 782/782 [00:04<00:00, 181.41it/s, loss=1.52]\n",
      "Epoch 36/100: 100%|██████████| 782/782 [00:04<00:00, 170.61it/s, loss=3.79]\n",
      "Epoch 37/100: 100%|██████████| 782/782 [00:04<00:00, 174.93it/s, loss=3.91]\n",
      "Epoch 38/100: 100%|██████████| 782/782 [00:04<00:00, 169.96it/s, loss=1.01]\n",
      "Epoch 39/100: 100%|██████████| 782/782 [00:04<00:00, 175.77it/s, loss=2.14] \n",
      "Epoch 40/100: 100%|██████████| 782/782 [00:04<00:00, 170.28it/s, loss=2.68] \n",
      "Epoch 41/100: 100%|██████████| 782/782 [00:04<00:00, 172.76it/s, loss=2.23] \n",
      "Epoch 42/100: 100%|██████████| 782/782 [00:03<00:00, 196.36it/s, loss=0.869]\n",
      "Epoch 43/100: 100%|██████████| 782/782 [00:04<00:00, 170.50it/s, loss=1.45] \n",
      "Epoch 44/100: 100%|██████████| 782/782 [00:04<00:00, 169.48it/s, loss=0.971]\n",
      "Epoch 45/100: 100%|██████████| 782/782 [00:04<00:00, 195.17it/s, loss=1.56] \n",
      "Epoch 46/100: 100%|██████████| 782/782 [00:04<00:00, 175.06it/s, loss=1.5]  \n",
      "Epoch 47/100: 100%|██████████| 782/782 [00:03<00:00, 197.38it/s, loss=1.5]  \n",
      "Epoch 48/100: 100%|██████████| 782/782 [00:04<00:00, 173.16it/s, loss=1.62] \n",
      "Epoch 49/100: 100%|██████████| 782/782 [00:04<00:00, 169.43it/s, loss=1.96] \n",
      "Epoch 50/100: 100%|██████████| 782/782 [00:03<00:00, 213.05it/s, loss=1.19] \n",
      "Epoch 51/100: 100%|██████████| 782/782 [00:04<00:00, 169.55it/s, loss=1.19] \n",
      "Epoch 52/100: 100%|██████████| 782/782 [00:03<00:00, 195.97it/s, loss=3.67] \n",
      "Epoch 53/100: 100%|██████████| 782/782 [00:04<00:00, 172.35it/s, loss=2.52] \n",
      "Epoch 54/100: 100%|██████████| 782/782 [00:03<00:00, 195.99it/s, loss=5.27] \n",
      "Epoch 55/100: 100%|██████████| 782/782 [00:04<00:00, 173.54it/s, loss=0.645]\n",
      "Epoch 56/100: 100%|██████████| 782/782 [00:03<00:00, 196.19it/s, loss=2.49] \n",
      "Epoch 57/100: 100%|██████████| 782/782 [00:04<00:00, 172.93it/s, loss=5.04] \n",
      "Epoch 58/100: 100%|██████████| 782/782 [00:03<00:00, 196.93it/s, loss=0.736]\n",
      "Epoch 59/100: 100%|██████████| 782/782 [00:04<00:00, 173.42it/s, loss=0.906]\n",
      "Epoch 60/100: 100%|██████████| 782/782 [00:04<00:00, 177.03it/s, loss=1.48] \n",
      "Epoch 61/100: 100%|██████████| 782/782 [00:04<00:00, 195.39it/s, loss=0.376]\n",
      "Epoch 62/100: 100%|██████████| 782/782 [00:04<00:00, 173.83it/s, loss=0.822]\n",
      "Epoch 63/100: 100%|██████████| 782/782 [00:04<00:00, 169.37it/s, loss=1.47] \n",
      "Epoch 64/100: 100%|██████████| 782/782 [00:04<00:00, 168.85it/s, loss=0.956]\n",
      "Epoch 65/100: 100%|██████████| 782/782 [00:03<00:00, 196.28it/s, loss=1.87] \n",
      "Epoch 66/100: 100%|██████████| 782/782 [00:04<00:00, 173.27it/s, loss=1.32] \n",
      "Epoch 67/100: 100%|██████████| 782/782 [00:04<00:00, 194.68it/s, loss=1.66] \n",
      "Epoch 68/100: 100%|██████████| 782/782 [00:03<00:00, 198.74it/s, loss=1.57] \n",
      "Epoch 69/100: 100%|██████████| 782/782 [00:03<00:00, 197.82it/s, loss=0.597]\n",
      "Epoch 70/100: 100%|██████████| 782/782 [00:04<00:00, 193.03it/s, loss=0.678]\n",
      "Epoch 71/100: 100%|██████████| 782/782 [00:04<00:00, 174.55it/s, loss=0.935]\n",
      "Epoch 72/100: 100%|██████████| 782/782 [00:04<00:00, 194.76it/s, loss=1.23] \n",
      "Epoch 73/100: 100%|██████████| 782/782 [00:04<00:00, 171.85it/s, loss=0.863]\n",
      "Epoch 74/100: 100%|██████████| 782/782 [00:04<00:00, 164.76it/s, loss=1.06] \n",
      "Epoch 75/100: 100%|██████████| 782/782 [00:03<00:00, 198.08it/s, loss=1.31] \n",
      "Epoch 76/100: 100%|██████████| 782/782 [00:04<00:00, 169.54it/s, loss=1.02] \n",
      "Epoch 77/100: 100%|██████████| 782/782 [00:04<00:00, 195.43it/s, loss=1.26] \n",
      "Epoch 78/100: 100%|██████████| 782/782 [00:04<00:00, 172.19it/s, loss=0.646]\n",
      "Epoch 79/100: 100%|██████████| 782/782 [00:04<00:00, 194.49it/s, loss=0.83] \n",
      "Epoch 80/100: 100%|██████████| 782/782 [00:04<00:00, 173.19it/s, loss=1.13] \n",
      "Epoch 81/100: 100%|██████████| 782/782 [00:04<00:00, 195.11it/s, loss=0.591]\n",
      "Epoch 82/100: 100%|██████████| 782/782 [00:04<00:00, 173.71it/s, loss=1.62] \n",
      "Epoch 83/100: 100%|██████████| 782/782 [00:04<00:00, 164.91it/s, loss=1.77] \n",
      "Epoch 84/100: 100%|██████████| 782/782 [00:04<00:00, 195.44it/s, loss=0.837]\n",
      "Epoch 85/100: 100%|██████████| 782/782 [00:04<00:00, 173.50it/s, loss=0.953]\n",
      "Epoch 86/100: 100%|██████████| 782/782 [00:03<00:00, 203.18it/s, loss=1]    \n",
      "Epoch 87/100: 100%|██████████| 782/782 [00:04<00:00, 172.10it/s, loss=1.36] \n",
      "Epoch 88/100: 100%|██████████| 782/782 [00:04<00:00, 169.30it/s, loss=1.16] \n",
      "Epoch 89/100: 100%|██████████| 782/782 [00:04<00:00, 195.09it/s, loss=1.52] \n",
      "Epoch 90/100: 100%|██████████| 782/782 [00:04<00:00, 173.15it/s, loss=1.41] \n",
      "Epoch 91/100: 100%|██████████| 782/782 [00:04<00:00, 194.75it/s, loss=0.907]\n",
      "Epoch 92/100: 100%|██████████| 782/782 [00:04<00:00, 172.24it/s, loss=0.668]\n",
      "Epoch 93/100: 100%|██████████| 782/782 [00:04<00:00, 182.35it/s, loss=0.865]\n",
      "Epoch 94/100: 100%|██████████| 782/782 [00:04<00:00, 171.34it/s, loss=1.1]  \n",
      "Epoch 95/100: 100%|██████████| 782/782 [00:04<00:00, 174.15it/s, loss=1.08] \n",
      "Epoch 96/100: 100%|██████████| 782/782 [00:04<00:00, 171.00it/s, loss=0.978]\n",
      "Epoch 97/100: 100%|██████████| 782/782 [00:04<00:00, 194.90it/s, loss=1.17] \n",
      "Epoch 98/100: 100%|██████████| 782/782 [00:04<00:00, 172.22it/s, loss=1.37] \n",
      "Epoch 99/100: 100%|██████████| 782/782 [00:04<00:00, 164.28it/s, loss=1.31] \n",
      "Epoch 100/100: 100%|██████████| 782/782 [00:04<00:00, 193.25it/s, loss=0.793]\n"
     ]
    }
   ],
   "source": [
    "for epoch in range(epochs):\n",
    "    with tqdm(dataloader) as tepoch:\n",
    "        for batch_idx, samples in enumerate(tepoch):\n",
    "            tepoch.set_description(f\"Epoch {epoch+1}/{epochs}\")\n",
    "            X_t, y_t = samples\n",
    "            \n",
    "            pred = model(X_t)\n",
    "            \n",
    "            pred = pred.squeeze()\n",
    "            cost = F.mse_loss(pred, y_t)\n",
    "            \n",
    "            optimizer.zero_grad()\n",
    "            cost.backward()\n",
    "            optimizer.step()\n",
    "            \n",
    "            tepoch.set_postfix(loss=cost.item())\n",
    "            cur_loss = cost.item()\n",
    "            \n",
    "        epos.append(epoch + 1)\n",
    "        los.append(cur_loss)"
   ]
  },
  {
   "cell_type": "code",
   "execution_count": 19,
   "id": "245ad209",
   "metadata": {},
   "outputs": [
    {
     "name": "stdout",
     "output_type": "stream",
     "text": [
      "nalu1.model.0.G tensor([[-1.2549, -1.1082, -0.9210, -1.1960],\n",
      "        [-1.0177, -0.0697, -0.1366, -0.9708]], device='cuda:0')\n",
      "nalu1.model.0.nac.W_ tensor([[ 6.4400e-03,  6.6281e+00,  6.7857e+00,  5.9825e-03],\n",
      "        [ 6.7424e+00, -1.1898e-03, -7.0809e-04,  6.6319e+00]], device='cuda:0')\n",
      "nalu1.model.0.nac.M_ tensor([[-6.0329,  8.5002,  8.4423, -6.2087],\n",
      "        [ 8.7366, -6.0087, -5.9476,  8.7038]], device='cuda:0')\n",
      "nalu1.model.1.G tensor([[0.9814, 0.5793]], device='cuda:0')\n",
      "nalu1.model.1.nac.W_ tensor([[-7.5280,  7.1650]], device='cuda:0')\n",
      "nalu1.model.1.nac.M_ tensor([[10.6794,  8.8652]], device='cuda:0')\n"
     ]
    }
   ],
   "source": [
    "for name, param in model.named_parameters():\n",
    "  print(name, param.data)"
   ]
  },
  {
   "cell_type": "markdown",
   "id": "b62ff713",
   "metadata": {},
   "source": [
    "initialization 에 따라 수렴 여부가 결정됨 -> 항상 수렴시킬 방법?\n",
    "-> initialization 할 때 exclude negative number\n",
    "\n",
    "음수가 포함되면 나누기 연산이 들어갈 확률이 높아져서 그런 것 같음\n",
    "\n",
    "필요한 연산보다 더 많은 layer 를 만들면 학습"
   ]
  },
  {
   "cell_type": "code",
   "execution_count": 20,
   "id": "313aef27",
   "metadata": {},
   "outputs": [],
   "source": [
    "# nn = 2\n",
    "# i = 4\n",
    "# o = 1\n",
    "# h = 2\n",
    "# for n in range(nn):\n",
    "#     f1 = h if n > 0 else i\n",
    "#     f2 = h if n < nn - 1 else o\n",
    "    \n",
    "#     print('({}, {})'.format(f1, f2))"
   ]
  },
  {
   "cell_type": "code",
   "execution_count": 21,
   "id": "cea2b79f",
   "metadata": {},
   "outputs": [
    {
     "data": {
      "image/png": "[encoded data removed]",
      "text/plain": [
       "<Figure size 432x288 with 1 Axes>"
      ]
     },
     "metadata": {
      "needs_background": "light"
     },
     "output_type": "display_data"
    }
   ],
   "source": [
    "plt.plot(epos, los, label='train')\n",
    "plt.title('model loss')\n",
    "plt.xlabel('Epoch')\n",
    "plt.ylabel('loss')\n",
    "plt.legend()\n",
    "# plt.savefig('aaa.png')\n",
    "plt.show()"
   ]
  },
  {
   "cell_type": "code",
   "execution_count": 22,
   "id": "bdb8fe8a",
   "metadata": {},
   "outputs": [],
   "source": [
    "# plt.plot(epos, los, label='train')\n",
    "# plt.title('model loss')\n",
    "# plt.xlabel('Epoch')\n",
    "# plt.ylabel('loss')\n",
    "# plt.legend()\n",
    "# plt.savefig('aaa.png')\n",
    "# plt.show()\n",
    "\n",
    "# torch.save(model, 'aaa.pt')\n",
    "\n",
    "# nn = 2\n",
    "# i = 4\n",
    "# o = 1\n",
    "# h = 2\n",
    "# for n in range(nn):\n",
    "#     f1 = h if n > 0 else i\n",
    "#     f2 = h if n < nn - 1 else o\n",
    "    \n",
    "#     print('({}, {})'.format(f1, f2))"
   ]
  },
  {
   "cell_type": "code",
   "execution_count": null,
   "id": "840c0682",
   "metadata": {},
   "outputs": [],
   "source": []
  },
  {
   "cell_type": "code",
   "execution_count": null,
   "id": "d226072c",
   "metadata": {},
   "outputs": [],
   "source": []
  }
 ],
 "metadata": {
  "kernelspec": {
   "display_name": "Python 3 (ipykernel)",
   "language": "python",
   "name": "python3"
  },
  "language_info": {
   "codemirror_mode": {
    "name": "ipython",
    "version": 3
   },
   "file_extension": ".py",
   "mimetype": "text/x-python",
   "name": "python",
   "nbconvert_exporter": "python",
   "pygments_lexer": "ipython3",
   "version": "3.8.10"
  }
 },
 "nbformat": 4,
 "nbformat_minor": 5
}
