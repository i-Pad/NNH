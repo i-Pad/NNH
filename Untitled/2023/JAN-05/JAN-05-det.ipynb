{
 "cells": [
  {
   "cell_type": "code",
   "execution_count": 1,
   "metadata": {},
   "outputs": [
    {
     "name": "stderr",
     "output_type": "stream",
     "text": [
      "/home/omg0207/.local/lib/python3.8/site-packages/tqdm/auto.py:22: TqdmWarning: IProgress not found. Please update jupyter and ipywidgets. See https://ipywidgets.readthedocs.io/en/stable/user_install.html\n",
      "  from .autonotebook import tqdm as notebook_tqdm\n"
     ]
    }
   ],
   "source": [
    "import torch\n",
    "import torch.nn as nn\n",
    "import torch.optim as optim\n",
    "import torch.nn.functional as F\n",
    "\n",
    "import numpy as np\n",
    "import matplotlib.pyplot as plt"
   ]
  },
  {
   "cell_type": "code",
   "execution_count": 2,
   "metadata": {},
   "outputs": [],
   "source": [
    "from numpy.linalg import inv, det\n",
    "from tqdm import tqdm\n",
    "from time import sleep\n",
    "\n",
    "from torch import sigmoid, tanh\n",
    "from torch import Tensor, exp, log\n",
    "from torch.nn import Sequential\n",
    "from torch.nn.parameter import Parameter\n",
    "from torch.nn.init import xavier_uniform_\n",
    "from torch.nn.init import uniform_\n",
    "from torch.nn.functional import linear\n",
    "\n",
    "from torch.utils.data import TensorDataset\n",
    "from torch.utils.data import DataLoader"
   ]
  },
  {
   "cell_type": "markdown",
   "metadata": {},
   "source": [
    "paper: Neural Arithmetic Logic Units (https://arxiv.org/pdf/1808.00508.pdf)"
   ]
  },
  {
   "cell_type": "code",
   "execution_count": 3,
   "metadata": {},
   "outputs": [],
   "source": [
    "# Cell for addition and subtraction\n",
    "class ASCell(nn.Module):\n",
    "    def __init__(self, in_shape, out_shape):\n",
    "        super().__init__()\n",
    "        self.in_shape = in_shape\n",
    "        self.out_shape = out_shape\n",
    "\n",
    "        self.W_ = Parameter(Tensor(out_shape, in_shape))\n",
    "        self.M_ = Parameter(Tensor(out_shape, in_shape))\n",
    "\n",
    "        uniform_(self.W_, 0.0, 1.0), uniform_(self.M_, 0.0, 1.0)\n",
    "        self.register_parameter('bias', None)\n",
    "\n",
    "    # a = Wx\n",
    "    # W = tanh(W) * sigmoid(M)\n",
    "    # * is elementwise product\n",
    "    def forward(self, X):\n",
    "        #print('W:', self.W_.shape, 'X:', X.shape)\n",
    "        W = tanh(self.W_) * sigmoid(self.M_)   \n",
    "#         W = torch.round(W)\n",
    "\n",
    "        # linear: XW^T + b\n",
    "        return linear(X, W, self.bias)\n",
    "        #return torch.matmul(X, W.T)"
   ]
  },
  {
   "cell_type": "code",
   "execution_count": 4,
   "metadata": {},
   "outputs": [],
   "source": [
    "# Cell for multiplication and division\n",
    "class MDCell(nn.Module):\n",
    "    def __init__(self, in_shape, out_shape):\n",
    "        super().__init__()\n",
    "        self.in_shape = in_shape\n",
    "        self.out_shape = out_shape\n",
    "\n",
    "#         self.G = Parameter(Tensor(out_shape, in_shape))\n",
    "        self.nac = ASCell(in_shape, out_shape)\n",
    "\n",
    "#         uniform_(self.G, 0.0, 1.0)\n",
    "        # epsilon prevents log0\n",
    "        self.eps = 1e-5\n",
    "        self.register_parameter('bias', None)\n",
    "\n",
    "    # y = g * a + (1 - g) * m\n",
    "    # m = exp W(log(|x| + e)), g = sigmoid(Gx)\n",
    "    # * is elementwise product\n",
    "    # a is from nac\n",
    "    \n",
    "    # y = exp W(log(|X| + e))\n",
    "    # W = tanh(W) * sigmoid(M)\n",
    "    # * is elementalwise product\n",
    "    def forward(self, X):\n",
    "#         a = self.nac(X)\n",
    "#         g = sigmoid(linear(X, self.G, self.bias))\n",
    "\n",
    "#         ag = g * a\n",
    "        log_in = log(abs(X) + self.eps)\n",
    "        m = exp(self.nac(log_in))\n",
    "#         md = (1 - g) * m\n",
    "\n",
    "#         return ag + md\n",
    "        return m"
   ]
  },
  {
   "cell_type": "code",
   "execution_count": 5,
   "metadata": {},
   "outputs": [],
   "source": [
    "class Custom(nn.Module):\n",
    "    def __init__(self):\n",
    "        super().__init__()\n",
    "        self.MD1 = MDCell(in_shape=4, out_shape=2)\n",
    "        self.AS1 = ASCell(in_shape=2, out_shape=1)\n",
    "        \n",
    "    def forward(self, X):\n",
    "        X = self.MD1(X)\n",
    "        X = self.AS1(X)\n",
    "        X = X.squeeze()\n",
    "\n",
    "        return X"
   ]
  },
  {
   "cell_type": "code",
   "execution_count": 6,
   "metadata": {},
   "outputs": [],
   "source": [
    "num = 1\n",
    "n_train = 100000\n",
    "X_train = []\n",
    "y_train = []\n",
    "\n",
    "while num <= n_train:\n",
    "    A = np.random.randint(1, 20, size=(2, 2))\n",
    "    \n",
    "    if det(A) == 0:\n",
    "        continue\n",
    "    else:\n",
    "        A = A.astype(np.float32)\n",
    "        X_train.append(A)\n",
    "        y_train.append(det(A))\n",
    "        num += 1"
   ]
  },
  {
   "cell_type": "code",
   "execution_count": 7,
   "metadata": {},
   "outputs": [],
   "source": [
    "X_train = np.array(X_train)\n",
    "y_train = np.array(y_train)\n",
    "\n",
    "X_train = torch.from_numpy(X_train)\n",
    "X_train = X_train.reshape(n_train, 4)\n",
    "y_train = torch.from_numpy(y_train)"
   ]
  },
  {
   "cell_type": "code",
   "execution_count": 8,
   "metadata": {},
   "outputs": [],
   "source": [
    "num = 1\n",
    "n_val = 10000\n",
    "X_val = []\n",
    "y_val = []\n",
    "\n",
    "while num <= n_val:\n",
    "    A = np.random.randint(20, 40, size=(2, 2))\n",
    "    \n",
    "    if det(A) == 0:\n",
    "        continue\n",
    "    else:\n",
    "        A = A.astype(np.float32)\n",
    "        X_val.append(A)\n",
    "        y_val.append(det(A))\n",
    "        num += 1"
   ]
  },
  {
   "cell_type": "code",
   "execution_count": 9,
   "metadata": {},
   "outputs": [],
   "source": [
    "X_val = np.array(X_val)\n",
    "y_val = np.array(y_val)\n",
    "\n",
    "X_val = torch.from_numpy(X_val)\n",
    "X_val = X_val.reshape(n_val, 4)\n",
    "y_val = torch.from_numpy(y_val)"
   ]
  },
  {
   "cell_type": "code",
   "execution_count": 10,
   "metadata": {},
   "outputs": [
    {
     "name": "stdout",
     "output_type": "stream",
     "text": [
      "torch.Size([10000, 4])\n"
     ]
    },
    {
     "data": {
      "text/plain": [
       "tensor([[26., 31., 24., 36.],\n",
       "        [34., 22., 26., 36.],\n",
       "        [32., 36., 37., 22.],\n",
       "        ...,\n",
       "        [21., 36., 31., 28.],\n",
       "        [21., 25., 35., 21.],\n",
       "        [34., 32., 29., 20.]])"
      ]
     },
     "execution_count": 10,
     "metadata": {},
     "output_type": "execute_result"
    }
   ],
   "source": [
    "print(X_val.shape)\n",
    "X_val"
   ]
  },
  {
   "cell_type": "code",
   "execution_count": 11,
   "metadata": {},
   "outputs": [
    {
     "name": "stdout",
     "output_type": "stream",
     "text": [
      "torch.Size([100000, 4])\n"
     ]
    },
    {
     "data": {
      "text/plain": [
       "tensor([[ 2.,  9., 14.,  2.],\n",
       "        [ 1., 12.,  5., 11.],\n",
       "        [16., 17.,  5., 18.],\n",
       "        ...,\n",
       "        [16.,  1.,  1., 11.],\n",
       "        [ 7., 11.,  7., 12.],\n",
       "        [ 3.,  2.,  6.,  2.]])"
      ]
     },
     "execution_count": 11,
     "metadata": {},
     "output_type": "execute_result"
    }
   ],
   "source": [
    "print(X_train.shape)\n",
    "X_train"
   ]
  },
  {
   "cell_type": "code",
   "execution_count": 12,
   "metadata": {},
   "outputs": [
    {
     "name": "stdout",
     "output_type": "stream",
     "text": [
      "torch.Size([100000])\n",
      "tensor(91.8821)\n"
     ]
    },
    {
     "data": {
      "text/plain": [
       "tensor([-122.,  -49.,  203.,  ...,  175.,    7.,   -6.])"
      ]
     },
     "execution_count": 12,
     "metadata": {},
     "output_type": "execute_result"
    }
   ],
   "source": [
    "print(y_train.shape)\n",
    "print(sum(abs(y_train)) / n_train)\n",
    "y_train"
   ]
  },
  {
   "cell_type": "code",
   "execution_count": 13,
   "metadata": {},
   "outputs": [
    {
     "data": {
      "text/plain": [
       "device(type='cuda', index=0)"
      ]
     },
     "execution_count": 13,
     "metadata": {},
     "output_type": "execute_result"
    }
   ],
   "source": [
    "device = torch.device('cuda:0' if torch.cuda.is_available() else 'cpu')\n",
    "device"
   ]
  },
  {
   "cell_type": "code",
   "execution_count": 14,
   "metadata": {},
   "outputs": [],
   "source": [
    "# model = NALU(input_shape=4, output_shape=1, n_layers=2, hidden_shape=2)\n",
    "model = Custom()"
   ]
  },
  {
   "cell_type": "code",
   "execution_count": 15,
   "metadata": {},
   "outputs": [
    {
     "name": "stdout",
     "output_type": "stream",
     "text": [
      "MD1.nac.W_ tensor([[0.1118, 0.9667, 0.8857, 0.2069],\n",
      "        [0.7337, 0.5560, 0.5944, 0.8485]])\n",
      "MD1.nac.M_ tensor([[0.7581, 0.2408, 0.2964, 0.6479],\n",
      "        [0.2727, 0.5802, 0.1117, 0.0184]])\n",
      "AS1.W_ tensor([[0.8432, 0.8324]])\n",
      "AS1.M_ tensor([[0.8535, 0.4550]])\n"
     ]
    }
   ],
   "source": [
    "for name, param in model.named_parameters():\n",
    "  print(name, param.data)"
   ]
  },
  {
   "cell_type": "code",
   "execution_count": 16,
   "metadata": {},
   "outputs": [
    {
     "data": {
      "text/plain": [
       "tensor([[ 2.,  9., 14.,  2.],\n",
       "        [ 1., 12.,  5., 11.],\n",
       "        [16., 17.,  5., 18.],\n",
       "        ...,\n",
       "        [16.,  1.,  1., 11.],\n",
       "        [ 7., 11.,  7., 12.],\n",
       "        [ 3.,  2.,  6.,  2.]], device='cuda:0')"
      ]
     },
     "execution_count": 16,
     "metadata": {},
     "output_type": "execute_result"
    }
   ],
   "source": [
    "model.to(device)\n",
    "X_train = X_train.to(device)\n",
    "y_train = y_train.to(device)\n",
    "X_val = X_val.to(device)\n",
    "y_val = y_val.to(device)\n",
    "\n",
    "X_train"
   ]
  },
  {
   "cell_type": "code",
   "execution_count": 17,
   "metadata": {},
   "outputs": [
    {
     "data": {
      "text/plain": [
       "<torch.utils.data.dataset.TensorDataset at 0x7f28f935eeb0>"
      ]
     },
     "execution_count": 17,
     "metadata": {},
     "output_type": "execute_result"
    }
   ],
   "source": [
    "dataset = TensorDataset(X_train, y_train)\n",
    "dataset"
   ]
  },
  {
   "cell_type": "code",
   "execution_count": 18,
   "metadata": {},
   "outputs": [],
   "source": [
    "b_size = 128\n",
    "dataloader = DataLoader(dataset, batch_size=b_size, shuffle=True)\n",
    "optimizer = optim.Adam(model.parameters(), lr=0.001)"
   ]
  },
  {
   "cell_type": "code",
   "execution_count": 19,
   "metadata": {},
   "outputs": [
    {
     "name": "stdout",
     "output_type": "stream",
     "text": [
      "781.25\n"
     ]
    }
   ],
   "source": [
    "print(n_train / b_size)\n",
    "\n",
    "epochs = 30\n",
    "train_loss = 0.0\n",
    "val_loss = 0.0\n",
    "b_idx = 0\n",
    "epos = []\n",
    "los = []\n",
    "v_los = []"
   ]
  },
  {
   "cell_type": "code",
   "execution_count": 20,
   "metadata": {
    "scrolled": false
   },
   "outputs": [
    {
     "name": "stderr",
     "output_type": "stream",
     "text": [
      "Epoch 1/30: 100%|██████████| 782/782 [00:02<00:00, 327.43it/s, Train loss(final)=1.36e+4, Val loss=1.25e+5]\n",
      "Epoch 2/30: 100%|██████████| 782/782 [00:01<00:00, 411.06it/s, Train loss(final)=1.2e+4, Val loss=1.3e+5]\n",
      "Epoch 3/30: 100%|██████████| 782/782 [00:01<00:00, 441.87it/s, Train loss(final)=6.14e+3, Val loss=1.24e+5]\n",
      "Epoch 4/30: 100%|██████████| 782/782 [00:01<00:00, 400.05it/s, Train loss(final)=802, Val loss=5.9e+4]\n",
      "Epoch 5/30: 100%|██████████| 782/782 [00:01<00:00, 404.49it/s, Train loss(final)=543, Val loss=3.05e+4]\n",
      "Epoch 6/30: 100%|██████████| 782/782 [00:01<00:00, 397.30it/s, Train loss(final)=379, Val loss=1.78e+4]\n",
      "Epoch 7/30: 100%|██████████| 782/782 [00:01<00:00, 402.26it/s, Train loss(final)=267, Val loss=1.17e+4]\n",
      "Epoch 8/30: 100%|██████████| 782/782 [00:01<00:00, 403.94it/s, Train loss(final)=187, Val loss=7.84e+3]\n",
      "Epoch 9/30: 100%|██████████| 782/782 [00:01<00:00, 415.00it/s, Train loss(final)=131, Val loss=5.21e+3]\n",
      "Epoch 10/30: 100%|██████████| 782/782 [00:01<00:00, 404.81it/s, Train loss(final)=90.5, Val loss=3.38e+3]\n",
      "Epoch 11/30: 100%|██████████| 782/782 [00:01<00:00, 423.87it/s, Train loss(final)=62.5, Val loss=2.43e+3]\n",
      "Epoch 12/30: 100%|██████████| 782/782 [00:02<00:00, 332.10it/s, Train loss(final)=43.1, Val loss=1.52e+3]\n",
      "Epoch 13/30: 100%|██████████| 782/782 [00:02<00:00, 316.34it/s, Train loss(final)=29.8, Val loss=945]\n",
      "Epoch 14/30: 100%|██████████| 782/782 [00:02<00:00, 358.70it/s, Train loss(final)=20.5, Val loss=589]\n",
      "Epoch 15/30: 100%|██████████| 782/782 [00:01<00:00, 444.17it/s, Train loss(final)=14.2, Val loss=445]\n",
      "Epoch 16/30: 100%|██████████| 782/782 [00:02<00:00, 358.98it/s, Train loss(final)=9.87, Val loss=291]\n",
      "Epoch 17/30: 100%|██████████| 782/782 [00:01<00:00, 444.68it/s, Train loss(final)=6.89, Val loss=215]\n",
      "Epoch 18/30: 100%|██████████| 782/782 [00:02<00:00, 350.61it/s, Train loss(final)=4.81, Val loss=134]\n",
      "Epoch 19/30: 100%|██████████| 782/782 [00:02<00:00, 336.59it/s, Train loss(final)=3.36, Val loss=92.4]\n",
      "Epoch 20/30: 100%|██████████| 782/782 [00:01<00:00, 406.33it/s, Train loss(final)=2.37, Val loss=63.1]\n",
      "Epoch 21/30: 100%|██████████| 782/782 [00:01<00:00, 428.17it/s, Train loss(final)=1.67, Val loss=43.1]\n",
      "Epoch 22/30: 100%|██████████| 782/782 [00:01<00:00, 407.40it/s, Train loss(final)=1.18, Val loss=30.6]\n",
      "Epoch 23/30: 100%|██████████| 782/782 [00:01<00:00, 422.75it/s, Train loss(final)=0.841, Val loss=22.1]\n",
      "Epoch 24/30: 100%|██████████| 782/782 [00:01<00:00, 446.63it/s, Train loss(final)=0.604, Val loss=14.2]\n",
      "Epoch 25/30: 100%|██████████| 782/782 [00:01<00:00, 400.27it/s, Train loss(final)=0.432, Val loss=16.7]\n",
      "Epoch 26/30: 100%|██████████| 782/782 [00:02<00:00, 351.12it/s, Train loss(final)=0.314, Val loss=6.62]\n",
      "Epoch 27/30: 100%|██████████| 782/782 [00:02<00:00, 340.75it/s, Train loss(final)=0.23, Val loss=5.66]\n",
      "Epoch 28/30: 100%|██████████| 782/782 [00:02<00:00, 365.02it/s, Train loss(final)=0.17, Val loss=3.26]\n",
      "Epoch 29/30: 100%|██████████| 782/782 [00:02<00:00, 349.94it/s, Train loss(final)=0.132, Val loss=3.12]\n",
      "Epoch 30/30: 100%|██████████| 782/782 [00:02<00:00, 334.87it/s, Train loss(final)=0.0942, Val loss=3.11]\n"
     ]
    }
   ],
   "source": [
    "for epoch in range(epochs):\n",
    "    with tqdm(dataloader) as tepoch:\n",
    "        tepoch.set_description(f\"Epoch {epoch+1}/{epochs}\")\n",
    "        train_loss = 0\n",
    "        val_loss = 0\n",
    "        b_idx = 0\n",
    "        \n",
    "        for batch_idx, samples in enumerate(tepoch):\n",
    "            b_idx += 1\n",
    "            X_t, y_t = samples\n",
    "            \n",
    "            pred = model(X_t)\n",
    "            cost = F.mse_loss(pred, y_t)\n",
    "            \n",
    "            optimizer.zero_grad()\n",
    "            cost.backward()\n",
    "            optimizer.step()\n",
    "            \n",
    "            loss = cost.item()\n",
    "            train_loss += loss\n",
    "            \n",
    "            if b_idx < 782:\n",
    "                tepoch.set_postfix({'Train loss(in progress)': loss})\n",
    "            else:\n",
    "                with torch.no_grad():\n",
    "                    p_val = model(X_val)\n",
    "                    val_cost = F.mse_loss(p_val, y_val)\n",
    "                    val_loss = val_cost.item()\n",
    "                \n",
    "                train_loss /= b_idx \n",
    "#                 print('train:', train_loss, 'val:', val_loss, 'b:', b_idx)\n",
    "                tepoch.set_postfix({'Train loss(final)': train_loss, 'Val loss': val_loss})\n",
    "#                 tepoch.close()\n",
    "        \n",
    "        epos.append(epoch + 1)\n",
    "        los.append(train_loss)\n",
    "        v_los.append(val_loss)"
   ]
  },
  {
   "cell_type": "code",
   "execution_count": 21,
   "metadata": {},
   "outputs": [
    {
     "name": "stdout",
     "output_type": "stream",
     "text": [
      "MD1.nac.W_ tensor([[3.5880e-03, 5.0467e+00, 4.9670e+00, 3.8986e-03],\n",
      "        [5.2381e+00, 4.8183e-03, 6.0976e-03, 5.3824e+00]], device='cuda:0')\n",
      "MD1.nac.M_ tensor([[ 0.9165,  6.5209,  6.5632,  0.7004],\n",
      "        [ 6.7509,  0.3187, -0.1106,  6.5944]], device='cuda:0')\n",
      "AS1.W_ tensor([[-4.6748,  5.0094]], device='cuda:0')\n",
      "AS1.M_ tensor([[7.0108, 6.6385]], device='cuda:0')\n"
     ]
    }
   ],
   "source": [
    "for name, param in model.named_parameters():\n",
    "  print(name, param.data)"
   ]
  },
  {
   "cell_type": "code",
   "execution_count": 22,
   "metadata": {},
   "outputs": [
    {
     "data": {
      "image/png": "[encoded data removed]",
      "text/plain": [
       "<Figure size 432x288 with 1 Axes>"
      ]
     },
     "metadata": {
      "needs_background": "light"
     },
     "output_type": "display_data"
    }
   ],
   "source": [
    "plt.plot(epos, los, label='train')\n",
    "plt.plot(epos, v_los, label='validation')\n",
    "plt.title('model loss')\n",
    "plt.xlabel('Epoch')\n",
    "plt.ylabel('loss')\n",
    "plt.legend()\n",
    "# plt.savefig('aaa.png')\n",
    "plt.show()"
   ]
  },
  {
   "cell_type": "code",
   "execution_count": 23,
   "metadata": {},
   "outputs": [
    {
     "data": {
      "image/png": "[encoded data removed]",
      "text/plain": [
       "<Figure size 432x288 with 2 Axes>"
      ]
     },
     "metadata": {
      "needs_background": "light"
     },
     "output_type": "display_data"
    }
   ],
   "source": [
    "fig, (ax1, ax2) = plt.subplots(2, 1, sharex=True)\n",
    "fig.subplots_adjust(hspace=0.05)\n",
    "\n",
    "ax1.plot(epos, los, label='train')\n",
    "ax1.plot(epos, v_los, label='validation')\n",
    "ax2.plot(epos, los, label='train')\n",
    "ax2.plot(epos, v_los, label='validation')\n",
    "\n",
    "\n",
    "ax1.set_ylim(100, 1000)\n",
    "ax2.set_ylim(0, 10)\n",
    "\n",
    "ax1.spines['bottom'].set_visible(False)\n",
    "ax2.spines['top'].set_visible(False)\n",
    "ax1.xaxis.tick_top()\n",
    "ax1.tick_params(labeltop=False)\n",
    "ax2.xaxis.tick_bottom()\n",
    "\n",
    "kwargs = dict(marker=[(-1, -0.5), (1, 0.5)], markersize=12, linestyle='none', color='k', mec='k', mew=1, clip_on=False)\n",
    "ax1.plot([0, 1], [0, 0], transform=ax1.transAxes, **kwargs)\n",
    "ax2.plot([0, 1], [1, 1], transform=ax2.transAxes, **kwargs)\n",
    "\n",
    "ax1.set_title('model loss')\n",
    "plt.xlabel('Epoch')\n",
    "plt.ylabel('loss')\n",
    "ax1.legend()\n",
    "plt.show()"
   ]
  },
  {
   "cell_type": "code",
   "execution_count": null,
   "metadata": {},
   "outputs": [],
   "source": []
  }
 ],
 "metadata": {
  "kernelspec": {
   "display_name": "Python 3",
   "language": "python",
   "name": "python3"
  },
  "language_info": {
   "codemirror_mode": {
    "name": "ipython",
    "version": 3
   },
   "file_extension": ".py",
   "mimetype": "text/x-python",
   "name": "python",
   "nbconvert_exporter": "python",
   "pygments_lexer": "ipython3",
   "version": "3.8.10"
  }
 },
 "nbformat": 4,
 "nbformat_minor": 5
}
