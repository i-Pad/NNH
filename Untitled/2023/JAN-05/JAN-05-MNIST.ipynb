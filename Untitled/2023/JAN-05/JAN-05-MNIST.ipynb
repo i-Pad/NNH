{
 "cells": [
  {
   "cell_type": "code",
   "execution_count": 1,
   "metadata": {},
   "outputs": [
    {
     "name": "stderr",
     "output_type": "stream",
     "text": [
      "/home/omg0207/.local/lib/python3.8/site-packages/tqdm/auto.py:22: TqdmWarning: IProgress not found. Please update jupyter and ipywidgets. See https://ipywidgets.readthedocs.io/en/stable/user_install.html\n",
      "  from .autonotebook import tqdm as notebook_tqdm\n"
     ]
    }
   ],
   "source": [
    "import torch\n",
    "import torch.nn as nn\n",
    "import torch.optim as optim\n",
    "import torch.nn.functional as F\n",
    "\n",
    "import numpy as np\n",
    "import matplotlib.pyplot as plt"
   ]
  },
  {
   "cell_type": "code",
   "execution_count": 2,
   "metadata": {},
   "outputs": [],
   "source": [
    "from numpy.linalg import inv, det\n",
    "from tqdm import tqdm\n",
    "from time import sleep\n",
    "\n",
    "from torch import sigmoid, tanh\n",
    "from torch import Tensor, exp, log\n",
    "from torch.nn import Sequential\n",
    "from torch.nn.parameter import Parameter\n",
    "from torch.nn.init import xavier_uniform_\n",
    "from torch.nn.init import uniform_\n",
    "from torch.nn.functional import linear\n",
    "\n",
    "from torch.utils.data import TensorDataset\n",
    "from torch.utils.data import DataLoader"
   ]
  },
  {
   "cell_type": "code",
   "execution_count": 3,
   "metadata": {},
   "outputs": [],
   "source": [
    "from mnist import MNIST"
   ]
  },
  {
   "cell_type": "markdown",
   "metadata": {},
   "source": [
    "paper: Neural Arithmetic Logic Units (https://arxiv.org/pdf/1808.00508.pdf)"
   ]
  },
  {
   "cell_type": "code",
   "execution_count": 4,
   "metadata": {},
   "outputs": [],
   "source": [
    "# Cell for addition and subtraction\n",
    "class ASCell(nn.Module):\n",
    "    def __init__(self, in_shape, out_shape):\n",
    "        super().__init__()\n",
    "        self.in_shape = in_shape\n",
    "        self.out_shape = out_shape\n",
    "\n",
    "        self.W_ = Parameter(Tensor(out_shape, in_shape))\n",
    "        self.M_ = Parameter(Tensor(out_shape, in_shape))\n",
    "\n",
    "        uniform_(self.W_, 0.0, 1.0), uniform_(self.M_, 0.0, 1.0)\n",
    "        self.register_parameter('bias', None)\n",
    "\n",
    "    # a = Wx\n",
    "    # W = tanh(W) * sigmoid(M)\n",
    "    # * is elementwise product\n",
    "    def forward(self, X):\n",
    "        #print('W:', self.W_.shape, 'X:', X.shape)\n",
    "        W = tanh(self.W_) * sigmoid(self.M_)\n",
    "\n",
    "        # linear: XW^T + b\n",
    "        return linear(X, W, self.bias)\n",
    "        #return torch.matmul(X, W.T)"
   ]
  },
  {
   "cell_type": "code",
   "execution_count": 5,
   "metadata": {},
   "outputs": [],
   "source": [
    "# Cell for multiplication and division\n",
    "class MDCell(nn.Module):\n",
    "    def __init__(self, in_shape, out_shape):\n",
    "        super().__init__()\n",
    "        self.in_shape = in_shape\n",
    "        self.out_shape = out_shape\n",
    "\n",
    "#         self.G = Parameter(Tensor(out_shape, in_shape))\n",
    "        self.nac = ASCell(in_shape, out_shape)\n",
    "\n",
    "#         uniform_(self.G, 0.0, 1.0)\n",
    "        # epsilon prevents log0\n",
    "        self.eps = 1e-5\n",
    "        self.register_parameter('bias', None)\n",
    "\n",
    "    # y = g * a + (1 - g) * m\n",
    "    # m = exp W(log(|x| + e)), g = sigmoid(Gx)\n",
    "    # * is elementwise product\n",
    "    # a is from nac\n",
    "    \n",
    "    # y = exp W(log(|X| + e))\n",
    "    # W = tanh(W) * sigmoid(M)\n",
    "    # * is elementalwise product\n",
    "    def forward(self, X):\n",
    "#         a = self.nac(X)\n",
    "#         g = sigmoid(linear(X, self.G, self.bias))\n",
    "\n",
    "#         ag = g * a\n",
    "        log_in = log(abs(X) + self.eps)\n",
    "        m = exp(self.nac(log_in))\n",
    "#         md = (1 - g) * m\n",
    "\n",
    "#         return ag + md\n",
    "        return m"
   ]
  },
  {
   "cell_type": "code",
   "execution_count": 53,
   "metadata": {},
   "outputs": [],
   "source": [
    "class Custom(nn.Module):\n",
    "    def __init__(self):\n",
    "        super(Custom, self).__init__()\n",
    "        self.fc1 = nn.Linear(784, 64)\n",
    "        self.fc2 = nn.Linear(64, 32)\n",
    "        self.MD1 = MDCell(in_shape=32, out_shape=16)\n",
    "        self.AS1 = ASCell(in_shape=16, out_shape=10)\n",
    "        \n",
    "    def forward(self, X):\n",
    "        X = X.view(-1, 784)\n",
    "        X = F.relu(self.fc1(X))\n",
    "        X = F.relu(self.fc2(X))\n",
    "        X = self.MD1(X)\n",
    "        X = self.AS1(X)\n",
    "    \n",
    "        return X"
   ]
  },
  {
   "cell_type": "code",
   "execution_count": 7,
   "metadata": {},
   "outputs": [],
   "source": [
    "class model_l(nn.Module):\n",
    "    def __init__(self):\n",
    "        super(model_l, self).__init__()\n",
    "        self.fc1 = nn.Linear(784, 64)\n",
    "        self.fc2 = nn.Linear(64, 32)\n",
    "        self.fc3 = nn.Linear(32, 16)\n",
    "        self.fc4 = nn.Linear(16, 10)\n",
    "    \n",
    "    def forward(self, X):\n",
    "        X = X.view(-1, 784)\n",
    "        X = F.relu(self.fc1(X))\n",
    "        X = F.relu(self.fc2(X))\n",
    "        X = F.relu(self.fc3(X))\n",
    "        X = self.fc4(X)\n",
    "        \n",
    "        return X"
   ]
  },
  {
   "cell_type": "code",
   "execution_count": 8,
   "metadata": {},
   "outputs": [],
   "source": [
    "class model_c(nn.Module):\n",
    "    def __init__(self):\n",
    "        super(model_c, self).__init__()\n",
    "        self.conv1 = nn.Conv2d(1, 32, 3, 1, padding='same')\n",
    "        self.conv2 = nn.Conv2d(32, 64, 3, 1, padding='same')\n",
    "        self.fc1 = nn.Linear(3136, 10)    # 7 * 7 * 64 = 3136\n",
    "    \n",
    "    def forward(self, X):\n",
    "        X = X.view(-1, 1, 28, 28)\n",
    "        X = self.conv1(X)\n",
    "        X = F.relu(X)\n",
    "        X = F.max_pool2d(X, 2)\n",
    "        X = self.conv2(X)\n",
    "        X = F.relu(X)\n",
    "        X = F.max_pool2d(X, 2)\n",
    "        X = torch.flatten(X, 1)\n",
    "        X = self.fc1(X)\n",
    "#         output = F.log_softmax(x, dim=1)\n",
    "\n",
    "        return X"
   ]
  },
  {
   "cell_type": "code",
   "execution_count": 9,
   "metadata": {},
   "outputs": [],
   "source": [
    "mnist = MNIST('/home/data/MNIST')"
   ]
  },
  {
   "cell_type": "code",
   "execution_count": 10,
   "metadata": {},
   "outputs": [
    {
     "name": "stdout",
     "output_type": "stream",
     "text": [
      "<class 'list'> 60000\n",
      "<class 'list'> 10000\n"
     ]
    }
   ],
   "source": [
    "X_train, y_train = mnist.load_training()\n",
    "X_test, y_test = mnist.load_testing()\n",
    "\n",
    "print(type(X_train[0]), len(X_train))\n",
    "print(type(X_test[0]), len(X_test))"
   ]
  },
  {
   "cell_type": "code",
   "execution_count": 11,
   "metadata": {},
   "outputs": [
    {
     "data": {
      "text/plain": [
       "device(type='cuda', index=0)"
      ]
     },
     "execution_count": 11,
     "metadata": {},
     "output_type": "execute_result"
    }
   ],
   "source": [
    "device = torch.device('cuda:0' if torch.cuda.is_available() else 'cpu')\n",
    "device"
   ]
  },
  {
   "cell_type": "code",
   "execution_count": 12,
   "metadata": {},
   "outputs": [],
   "source": [
    "# model = NALU(input_shape=4, output_shape=1, n_layers=2, hidden_shape=2)\n",
    "# model = Custom()\n",
    "model = model_l()"
   ]
  },
  {
   "cell_type": "code",
   "execution_count": 13,
   "metadata": {},
   "outputs": [],
   "source": [
    "X_train = np.array(X_train)\n",
    "y_train = np.array(y_train)\n",
    "\n",
    "X_test = np.array(X_test)\n",
    "y_test = np.array(y_test)"
   ]
  },
  {
   "cell_type": "code",
   "execution_count": 14,
   "metadata": {},
   "outputs": [
    {
     "name": "stdout",
     "output_type": "stream",
     "text": [
      "3\n"
     ]
    },
    {
     "data": {
      "image/png": "[encoded data removed]",
      "text/plain": [
       "<Figure size 432x288 with 1 Axes>"
      ]
     },
     "metadata": {
      "needs_background": "light"
     },
     "output_type": "display_data"
    }
   ],
   "source": [
    "img = X_train[7].reshape(28, 28)\n",
    "# print(img)\n",
    "\n",
    "plt.imshow(img, cmap='gray')\n",
    "print(y_train[7])"
   ]
  },
  {
   "cell_type": "code",
   "execution_count": 15,
   "metadata": {},
   "outputs": [],
   "source": [
    "X_train = torch.from_numpy(X_train).float()\n",
    "y_train = torch.from_numpy(y_train).long()\n",
    "\n",
    "X_test = torch.from_numpy(X_test).float()\n",
    "y_test = torch.from_numpy(y_test).long()\n",
    "\n",
    "# y_train = F.one_hot(y_train, 10)"
   ]
  },
  {
   "cell_type": "code",
   "execution_count": 16,
   "metadata": {},
   "outputs": [
    {
     "data": {
      "text/plain": [
       "torch.Size([784])"
      ]
     },
     "execution_count": 16,
     "metadata": {},
     "output_type": "execute_result"
    }
   ],
   "source": [
    "model.to(device)\n",
    "X_train = X_train.to(device)\n",
    "y_train = y_train.to(device)\n",
    "\n",
    "X_test = X_test.to(device)\n",
    "y_test = y_test.to(device)\n",
    "\n",
    "X_train[0].shape"
   ]
  },
  {
   "cell_type": "code",
   "execution_count": 17,
   "metadata": {},
   "outputs": [
    {
     "data": {
      "text/plain": [
       "tensor([5, 0, 4,  ..., 5, 6, 8], device='cuda:0')"
      ]
     },
     "execution_count": 17,
     "metadata": {},
     "output_type": "execute_result"
    }
   ],
   "source": [
    "y_train"
   ]
  },
  {
   "cell_type": "code",
   "execution_count": 18,
   "metadata": {},
   "outputs": [
    {
     "data": {
      "text/plain": [
       "<torch.utils.data.dataset.TensorDataset at 0x7f5d8853abb0>"
      ]
     },
     "execution_count": 18,
     "metadata": {},
     "output_type": "execute_result"
    }
   ],
   "source": [
    "dataset = TensorDataset(X_train, y_train)\n",
    "dataset"
   ]
  },
  {
   "cell_type": "code",
   "execution_count": 19,
   "metadata": {},
   "outputs": [],
   "source": [
    "b_size = 100\n",
    "dataloader = DataLoader(dataset, batch_size=b_size, shuffle=True)\n",
    "optimizer = optim.Adam(model.parameters(), lr=0.01)"
   ]
  },
  {
   "cell_type": "code",
   "execution_count": 20,
   "metadata": {},
   "outputs": [
    {
     "name": "stdout",
     "output_type": "stream",
     "text": [
      "600.0\n"
     ]
    }
   ],
   "source": [
    "print(len(X_train) / b_size)\n",
    "\n",
    "epochs = 10\n",
    "train_acc = 0.0\n",
    "test_acc = 0.0\n",
    "b_idx = 0\n",
    "epos = []\n",
    "acc = []\n",
    "t_acc = []"
   ]
  },
  {
   "cell_type": "code",
   "execution_count": 21,
   "metadata": {},
   "outputs": [],
   "source": [
    "def neg_likelihood(log_pred, y_true):\n",
    "    return -log_pred[torch.arange(y_true.size()[0]), y_true].mean()\n",
    "\n",
    "def accuracy(log_pred, y_true):\n",
    "    y_pred = torch.argmax(log_pred, dim=1)\n",
    "    return (y_pred == y_true).to(torch.float).mean()\n",
    "\n",
    "def print_loss_accuracy(log_pred, y_true, loss_function):\n",
    "    with torch.no_grad():\n",
    "        print(f\"Loss: {neg_likelihood(log_pred, y_true):.6f}\")\n",
    "        print(f\"Accuracy: {100 * accuracy(log_pred, y_true).item():.2f} %\")"
   ]
  },
  {
   "cell_type": "code",
   "execution_count": 22,
   "metadata": {
    "scrolled": false
   },
   "outputs": [
    {
     "name": "stderr",
     "output_type": "stream",
     "text": [
      "Epoch 1/10: 100%|██████████| 600/600 [00:02<00:00, 255.40it/s, loss=0.96, Accuracy=0.711]    \n",
      "Epoch 2/10: 100%|██████████| 600/600 [00:02<00:00, 225.05it/s, loss=0.342, Accuracy=0.908]   \n",
      "Epoch 3/10: 100%|██████████| 600/600 [00:02<00:00, 219.25it/s, loss=0.34, Accuracy=0.912]     \n",
      "Epoch 4/10: 100%|██████████| 600/600 [00:02<00:00, 212.86it/s, loss=0.311, Accuracy=0.919]    \n",
      "Epoch 5/10: 100%|██████████| 600/600 [00:02<00:00, 219.69it/s, loss=0.304, Accuracy=0.927]    \n",
      "Epoch 6/10: 100%|██████████| 600/600 [00:02<00:00, 259.23it/s, loss=0.307, Accuracy=0.929]    \n",
      "Epoch 7/10: 100%|██████████| 600/600 [00:02<00:00, 258.08it/s, loss=0.306, Accuracy=0.923]    \n",
      "Epoch 8/10: 100%|██████████| 600/600 [00:02<00:00, 269.25it/s, loss=0.295, Accuracy=0.927]    \n",
      "Epoch 9/10: 100%|██████████| 600/600 [00:02<00:00, 266.85it/s, loss=0.405, Accuracy=0.913]    \n",
      "Epoch 10/10: 100%|██████████| 600/600 [00:01<00:00, 340.59it/s, loss=0.351, Accuracy=0.915]   \n"
     ]
    }
   ],
   "source": [
    "for epoch in range(epochs):\n",
    "    with tqdm(dataloader) as tepoch:\n",
    "        tepoch.set_description(f\"Epoch {epoch+1}/{epochs}\")\n",
    "        train_acc = 0\n",
    "        test_acc = 0\n",
    "        b_idx = 0\n",
    "        \n",
    "        for batch_idx, samples in enumerate(tepoch):\n",
    "            b_idx += 1\n",
    "            X_t, y_t = samples\n",
    "            \n",
    "            pred = model(X_t)\n",
    "#             print(pred[11])\n",
    "#             print(y_t[11])\n",
    "            cost = F.cross_entropy(pred, y_t)\n",
    "            \n",
    "            optimizer.zero_grad()\n",
    "            cost.backward()\n",
    "            optimizer.step()\n",
    "            \n",
    "            loss = cost.item()\n",
    "            with torch.no_grad():\n",
    "                train_acc += accuracy(pred, y_t).item()\n",
    "            \n",
    "            if b_idx < 600:\n",
    "                tepoch.set_postfix({'Train loss(in progress)': loss})\n",
    "            else:\n",
    "                with torch.no_grad():\n",
    "                    p_val = model(X_test)\n",
    "                    val_cost = F.cross_entropy(p_val, y_test)\n",
    "                    test_acc = accuracy(p_val, y_test).item()\n",
    "                \n",
    "                train_acc /= b_idx \n",
    "                tepoch.set_postfix({'loss': val_cost.item(), 'Accuracy': test_acc})\n",
    "        \n",
    "        epos.append(epoch + 1)\n",
    "        acc.append(train_acc)\n",
    "        t_acc.append(test_acc)"
   ]
  },
  {
   "cell_type": "code",
   "execution_count": 23,
   "metadata": {},
   "outputs": [
    {
     "data": {
      "image/png": "[encoded data removed]",
      "text/plain": [
       "<Figure size 432x288 with 1 Axes>"
      ]
     },
     "metadata": {
      "needs_background": "light"
     },
     "output_type": "display_data"
    }
   ],
   "source": [
    "plt.plot(epos, acc, label='train')\n",
    "plt.plot(epos, t_acc, label='test')\n",
    "plt.title('model accuracy')\n",
    "plt.xlabel('Epoch')\n",
    "plt.ylabel('accuracy')\n",
    "plt.legend()\n",
    "# plt.savefig('aaa.png')\n",
    "plt.show()"
   ]
  },
  {
   "cell_type": "code",
   "execution_count": 54,
   "metadata": {},
   "outputs": [
    {
     "data": {
      "text/plain": [
       "Custom(\n",
       "  (fc1): Linear(in_features=784, out_features=64, bias=True)\n",
       "  (fc2): Linear(in_features=64, out_features=32, bias=True)\n",
       "  (MD1): MDCell(\n",
       "    (nac): ASCell()\n",
       "  )\n",
       "  (AS1): ASCell()\n",
       ")"
      ]
     },
     "execution_count": 54,
     "metadata": {},
     "output_type": "execute_result"
    }
   ],
   "source": [
    "model2 = Custom()\n",
    "\n",
    "model2.to(device)"
   ]
  },
  {
   "cell_type": "code",
   "execution_count": 55,
   "metadata": {},
   "outputs": [],
   "source": [
    "dataloader2 = DataLoader(dataset, batch_size=b_size, shuffle=True)\n",
    "optimizer2 = optim.Adam(model2.parameters(), lr=0.01)"
   ]
  },
  {
   "cell_type": "code",
   "execution_count": 56,
   "metadata": {},
   "outputs": [
    {
     "name": "stdout",
     "output_type": "stream",
     "text": [
      "600.0\n"
     ]
    }
   ],
   "source": [
    "print(len(X_train) / b_size)\n",
    "\n",
    "train_acc2 = 0.0\n",
    "test_acc2 = 0.0\n",
    "b_idx2 = 0\n",
    "epos2 = []\n",
    "acc2 = []\n",
    "t_acc2 = []"
   ]
  },
  {
   "cell_type": "code",
   "execution_count": 57,
   "metadata": {},
   "outputs": [
    {
     "name": "stderr",
     "output_type": "stream",
     "text": [
      "Epoch 1/10: 100%|██████████| 600/600 [00:02<00:00, 273.90it/s, loss=2.3, Accuracy=0.12]    \n",
      "Epoch 2/10: 100%|██████████| 600/600 [00:02<00:00, 213.55it/s, loss=2.3, Accuracy=0.12]    \n",
      "Epoch 3/10: 100%|██████████| 600/600 [00:02<00:00, 226.45it/s, loss=2.3, Accuracy=0.12]    \n",
      "Epoch 4/10: 100%|██████████| 600/600 [00:01<00:00, 364.35it/s, loss=2.3, Accuracy=0.12]    \n",
      "Epoch 5/10: 100%|██████████| 600/600 [00:02<00:00, 230.00it/s, loss=2.3, Accuracy=0.12]    \n",
      "Epoch 6/10: 100%|██████████| 600/600 [00:02<00:00, 280.38it/s, loss=2.3, Accuracy=0.12]    \n",
      "Epoch 7/10: 100%|██████████| 600/600 [00:02<00:00, 259.24it/s, loss=2.3, Accuracy=0.12]    \n",
      "Epoch 8/10: 100%|██████████| 600/600 [00:02<00:00, 262.22it/s, loss=2.3, Accuracy=0.12]    \n",
      "Epoch 9/10: 100%|██████████| 600/600 [00:02<00:00, 253.03it/s, loss=2.3, Accuracy=0.12]    \n",
      "Epoch 10/10: 100%|██████████| 600/600 [00:02<00:00, 278.90it/s, loss=2.3, Accuracy=0.12]    \n"
     ]
    }
   ],
   "source": [
    "for epoch in range(epochs):\n",
    "    with tqdm(dataloader2) as tepoch:\n",
    "        tepoch.set_description(f\"Epoch {epoch+1}/{epochs}\")\n",
    "        train_acc2 = 0\n",
    "        test_acc2 = 0\n",
    "        b_idx2 = 0\n",
    "        \n",
    "        for batch_idx, samples in enumerate(tepoch):\n",
    "            b_idx2 += 1\n",
    "            X_t2, y_t2 = samples\n",
    "            \n",
    "            pred2 = model2(X_t2)\n",
    "            cost2 = F.cross_entropy(pred2, y_t2)\n",
    "            \n",
    "            optimizer2.zero_grad()\n",
    "            cost2.backward()\n",
    "            optimizer2.step()\n",
    "            \n",
    "            loss2 = cost2.item()\n",
    "            with torch.no_grad():\n",
    "                train_acc2 += accuracy(pred2, y_t2).item()\n",
    "            \n",
    "            if b_idx2 < 600:\n",
    "                tepoch.set_postfix({'Train loss(in progress)': loss2})\n",
    "            else:\n",
    "                with torch.no_grad():\n",
    "                    p_val2 = model2(X_test)\n",
    "                    val_cost2 = F.cross_entropy(p_val2, y_test)\n",
    "                    test_acc2 = accuracy(p_val2, y_test).item()\n",
    "                \n",
    "                train_acc2 /= b_idx2 \n",
    "                tepoch.set_postfix({'loss': val_cost2.item(), 'Accuracy': test_acc2})\n",
    "        \n",
    "        epos2.append(epoch + 1)\n",
    "        acc2.append(train_acc2)\n",
    "        t_acc2.append(test_acc2)"
   ]
  },
  {
   "cell_type": "code",
   "execution_count": 58,
   "metadata": {},
   "outputs": [
    {
     "data": {
      "image/png": "[encoded data removed]",
      "text/plain": [
       "<Figure size 432x288 with 1 Axes>"
      ]
     },
     "metadata": {
      "needs_background": "light"
     },
     "output_type": "display_data"
    }
   ],
   "source": [
    "plt.plot(epos2, acc2, label='train')\n",
    "plt.plot(epos2, t_acc2, label='test')\n",
    "plt.title('model accuracy')\n",
    "plt.xlabel('Epoch')\n",
    "plt.ylabel('accuracy')\n",
    "plt.legend()\n",
    "# plt.savefig('aaa.png')\n",
    "plt.show()"
   ]
  },
  {
   "cell_type": "code",
   "execution_count": 29,
   "metadata": {},
   "outputs": [
    {
     "data": {
      "text/plain": [
       "model_c(\n",
       "  (conv1): Conv2d(1, 32, kernel_size=(3, 3), stride=(1, 1), padding=same)\n",
       "  (conv2): Conv2d(32, 64, kernel_size=(3, 3), stride=(1, 1), padding=same)\n",
       "  (fc1): Linear(in_features=3136, out_features=10, bias=True)\n",
       ")"
      ]
     },
     "execution_count": 29,
     "metadata": {},
     "output_type": "execute_result"
    }
   ],
   "source": [
    "model3 = model_c()\n",
    "\n",
    "model3.to(device)"
   ]
  },
  {
   "cell_type": "code",
   "execution_count": 30,
   "metadata": {},
   "outputs": [],
   "source": [
    "X_train3, y_train3 = mnist.load_training()\n",
    "X_test3, y_test3 = mnist.load_testing()\n",
    "\n",
    "# print(type(X_train3[0]), len(X_train3))\n",
    "# print(type(X_test3[0].shape), len(X_test3))"
   ]
  },
  {
   "cell_type": "code",
   "execution_count": 31,
   "metadata": {},
   "outputs": [],
   "source": [
    "X_train3 = np.array(X_train3)\n",
    "y_train3 = np.array(y_train3)\n",
    "\n",
    "X_test3 = np.array(X_test3)\n",
    "y_test3 = np.array(y_test3)"
   ]
  },
  {
   "cell_type": "code",
   "execution_count": 32,
   "metadata": {},
   "outputs": [
    {
     "data": {
      "text/plain": [
       "(60000, 1, 28, 28)"
      ]
     },
     "execution_count": 32,
     "metadata": {},
     "output_type": "execute_result"
    }
   ],
   "source": [
    "X_train3 = X_train3.reshape(-1, 1, 28, 28)\n",
    "X_test3 = X_test3.reshape(-1, 1, 28, 28)\n",
    "\n",
    "X_train3.shape"
   ]
  },
  {
   "cell_type": "code",
   "execution_count": 33,
   "metadata": {},
   "outputs": [],
   "source": [
    "X_train3 = torch.from_numpy(X_train3).float()\n",
    "y_train3 = torch.from_numpy(y_train3).long()\n",
    "\n",
    "X_test3 = torch.from_numpy(X_test3).float()\n",
    "y_test3 = torch.from_numpy(y_test3).long()"
   ]
  },
  {
   "cell_type": "code",
   "execution_count": 34,
   "metadata": {},
   "outputs": [],
   "source": [
    "X_train3 = X_train3.to(device)\n",
    "y_train3 = y_train3.to(device)\n",
    "\n",
    "X_test3 = X_test3.to(device)\n",
    "y_test3 = y_test3.to(device)"
   ]
  },
  {
   "cell_type": "code",
   "execution_count": 35,
   "metadata": {},
   "outputs": [
    {
     "data": {
      "text/plain": [
       "<torch.utils.data.dataset.TensorDataset at 0x7f5d8832aaf0>"
      ]
     },
     "execution_count": 35,
     "metadata": {},
     "output_type": "execute_result"
    }
   ],
   "source": [
    "dataset3 = TensorDataset(X_train3, y_train3)\n",
    "dataset3"
   ]
  },
  {
   "cell_type": "code",
   "execution_count": 36,
   "metadata": {},
   "outputs": [],
   "source": [
    "dataloader3 = DataLoader(dataset3, batch_size=b_size, shuffle=True)\n",
    "optimizer3 = optim.Adam(model3.parameters(), lr=0.01)"
   ]
  },
  {
   "cell_type": "code",
   "execution_count": 37,
   "metadata": {},
   "outputs": [
    {
     "name": "stdout",
     "output_type": "stream",
     "text": [
      "600.0\n"
     ]
    }
   ],
   "source": [
    "print(len(X_train) / b_size)\n",
    "\n",
    "train_acc3 = 0.0\n",
    "test_acc3 = 0.0\n",
    "b_idx3 = 0\n",
    "epos3 = []\n",
    "acc3 = []\n",
    "t_acc3 = []"
   ]
  },
  {
   "cell_type": "code",
   "execution_count": 38,
   "metadata": {},
   "outputs": [
    {
     "name": "stderr",
     "output_type": "stream",
     "text": [
      "Epoch 1/10:   0%|          | 0/600 [00:00<?, ?it/s]/home/omg0207/.local/lib/python3.8/site-packages/torch/nn/functional.py:718: UserWarning: Named tensors and all their associated APIs are an experimental feature and subject to change. Please do not use them for anything important until they are released as stable. (Triggered internally at  /pytorch/c10/core/TensorImpl.h:1156.)\n",
      "  return torch.max_pool2d(input, kernel_size, stride, padding, dilation, ceil_mode)\n",
      "Epoch 1/10: 100%|██████████| 600/600 [00:02<00:00, 223.77it/s, loss=0.214, Accuracy=0.932]    \n",
      "Epoch 2/10: 100%|██████████| 600/600 [00:02<00:00, 259.41it/s, loss=0.158, Accuracy=0.95]     \n",
      "Epoch 3/10: 100%|██████████| 600/600 [00:01<00:00, 303.16it/s, loss=0.161, Accuracy=0.95]     \n",
      "Epoch 4/10: 100%|██████████| 600/600 [00:02<00:00, 242.42it/s, loss=0.144, Accuracy=0.955]    \n",
      "Epoch 5/10: 100%|██████████| 600/600 [00:02<00:00, 254.00it/s, loss=0.169, Accuracy=0.947]    \n",
      "Epoch 6/10: 100%|██████████| 600/600 [00:02<00:00, 230.34it/s, loss=0.142, Accuracy=0.954]    \n",
      "Epoch 7/10: 100%|██████████| 600/600 [00:02<00:00, 280.25it/s, loss=0.14, Accuracy=0.958]     \n",
      "Epoch 8/10: 100%|██████████| 600/600 [00:02<00:00, 243.51it/s, loss=0.137, Accuracy=0.957]    \n",
      "Epoch 9/10: 100%|██████████| 600/600 [00:02<00:00, 296.41it/s, loss=0.123, Accuracy=0.961]    \n",
      "Epoch 10/10: 100%|██████████| 600/600 [00:01<00:00, 326.62it/s, loss=0.119, Accuracy=0.962]    \n"
     ]
    }
   ],
   "source": [
    "for epoch in range(epochs):\n",
    "    with tqdm(dataloader3) as tepoch:\n",
    "        tepoch.set_description(f\"Epoch {epoch+1}/{epochs}\")\n",
    "        train_acc3 = 0\n",
    "        test_acc3 = 0\n",
    "        b_idx3 = 0\n",
    "        \n",
    "        for batch_idx, samples in enumerate(tepoch):\n",
    "            b_idx3 += 1\n",
    "            X_t3, y_t3 = samples\n",
    "            \n",
    "            pred3 = model3(X_t3)\n",
    "            cost3 = F.cross_entropy(pred3, y_t3)\n",
    "            \n",
    "            optimizer3.zero_grad()\n",
    "            cost3.backward()\n",
    "            optimizer3.step()\n",
    "            \n",
    "            loss3 = cost3.item()\n",
    "            with torch.no_grad():\n",
    "                train_acc3 += accuracy(pred3, y_t3).item()\n",
    "            \n",
    "            if b_idx3 < 600:\n",
    "                tepoch.set_postfix({'Train loss(in progress)': loss3})\n",
    "            else:\n",
    "                with torch.no_grad():\n",
    "                    p_val3 = model3(X_test3)\n",
    "                    val_cost3 = F.cross_entropy(p_val3, y_test3)\n",
    "                    test_acc3 = accuracy(p_val3, y_test3).item()\n",
    "                \n",
    "                train_acc3 /= b_idx3\n",
    "                tepoch.set_postfix({'loss': val_cost3.item(), 'Accuracy': test_acc3})\n",
    "        \n",
    "        epos3.append(epoch + 1)\n",
    "        acc3.append(train_acc3)\n",
    "        t_acc3.append(test_acc3)"
   ]
  },
  {
   "cell_type": "code",
   "execution_count": 39,
   "metadata": {},
   "outputs": [
    {
     "data": {
      "image/png": "[encoded data removed]",
      "text/plain": [
       "<Figure size 432x288 with 1 Axes>"
      ]
     },
     "metadata": {
      "needs_background": "light"
     },
     "output_type": "display_data"
    }
   ],
   "source": [
    "plt.plot(epos3, acc3, label='train')\n",
    "plt.plot(epos3, t_acc3, label='test')\n",
    "plt.title('model accuracy')\n",
    "plt.xlabel('Epoch')\n",
    "plt.ylabel('accuracy')\n",
    "plt.legend()\n",
    "# plt.savefig('aaa.png')\n",
    "plt.show()"
   ]
  },
  {
   "cell_type": "code",
   "execution_count": null,
   "metadata": {},
   "outputs": [],
   "source": []
  }
 ],
 "metadata": {
  "kernelspec": {
   "display_name": "Python 3",
   "language": "python",
   "name": "python3"
  },
  "language_info": {
   "codemirror_mode": {
    "name": "ipython",
    "version": 3
   },
   "file_extension": ".py",
   "mimetype": "text/x-python",
   "name": "python",
   "nbconvert_exporter": "python",
   "pygments_lexer": "ipython3",
   "version": "3.8.10"
  }
 },
 "nbformat": 4,
 "nbformat_minor": 5
}
