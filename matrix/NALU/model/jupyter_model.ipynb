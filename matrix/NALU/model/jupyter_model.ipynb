{
 "cells": [
  {
   "cell_type": "code",
   "execution_count": 1,
   "id": "bbbd7aaf",
   "metadata": {},
   "outputs": [],
   "source": [
    "import torch\n",
    "import torch.nn as nn\n",
    "import torch.optim as optim\n",
    "import torch.nn.functional as F\n",
    "\n",
    "import numpy as np\n",
    "import matplotlib.pyplot as plt"
   ]
  },
  {
   "cell_type": "code",
   "execution_count": 2,
   "id": "cc178c49",
   "metadata": {},
   "outputs": [],
   "source": [
    "from numpy.linalg import inv, det\n",
    "from tqdm import tqdm\n",
    "from time import sleep\n",
    "\n",
    "from torch import sigmoid, tanh\n",
    "from torch import Tensor, exp, log\n",
    "from torch.nn import Sequential\n",
    "from torch.nn.parameter import Parameter\n",
    "from torch.nn.init import xavier_uniform_\n",
    "from torch.nn.functional import linear\n",
    "\n",
    "from torch.utils.data import TensorDataset\n",
    "from torch.utils.data import DataLoader"
   ]
  },
  {
   "cell_type": "code",
   "execution_count": 3,
   "id": "93903d24",
   "metadata": {},
   "outputs": [],
   "source": [
    "class NacCell(nn.Module):\n",
    "    def __init__(self, in_shape, out_shape):\n",
    "        super().__init__()\n",
    "        self.in_shape = in_shape\n",
    "        self.out_shape = out_shape\n",
    "\n",
    "        self.W_ = Parameter(Tensor(out_shape, in_shape))\n",
    "        self.M_ = Parameter(Tensor(out_shape, in_shape))\n",
    "\n",
    "        xavier_uniform_(self.W_), xavier_uniform_(self.M_)\n",
    "        self.register_parameter('bias', None)\n",
    "\n",
    "    # a = Wx\n",
    "    # W = tanh(W) * sigmoid(M)\n",
    "    # * is elementwise product\n",
    "    def forward(self, X):\n",
    "        #print('W:', self.W_.shape, 'X:', X.shape)\n",
    "        W = tanh(self.W_) * sigmoid(self.M_)\n",
    "\n",
    "        # linear: XW^T + b\n",
    "        return linear(X, W.T, self.bias)\n",
    "        #return torch.matmul(X, W.T)"
   ]
  },
  {
   "cell_type": "code",
   "execution_count": 4,
   "id": "7c8bf481",
   "metadata": {},
   "outputs": [],
   "source": [
    "class NaluCell(nn.Module):\n",
    "    def __init__(self, in_shape, out_shape):\n",
    "        super().__init__()\n",
    "        self.in_shape = in_shape\n",
    "        self.out_shape = out_shape\n",
    "\n",
    "        self.G = Parameter(Tensor(out_shape, in_shape))\n",
    "        self.nac = NacCell(out_shape, in_shape)\n",
    "\n",
    "        xavier_uniform_(self.G)\n",
    "        # epsilon prevents log0\n",
    "        self.eps = 1e-5\n",
    "        self.register_parameter('bias', None)\n",
    "\n",
    "    # y = g * a + (1 - g) * m\n",
    "    # m = exp W(log(|x| + e)), g = sigmoid(Gx)\n",
    "    # * is elementwise product\n",
    "    # a is from nac\n",
    "    def\tforward(self, X):\n",
    "        a = self.nac(X)\n",
    "        g = sigmoid(linear(X, self.G, self.bias))\n",
    "\n",
    "        ag = g * a\n",
    "        log_in = log(abs(X) + self.eps)\n",
    "        m = exp(self.nac(log_in))\n",
    "        md = (1 - g) * m\n",
    "\n",
    "        return ag + md"
   ]
  },
  {
   "cell_type": "code",
   "execution_count": 5,
   "id": "0ad6931a",
   "metadata": {},
   "outputs": [],
   "source": [
    "class NaluLayer(nn.Module):\n",
    "    def __init__(self, input_shape, output_shape, n_layers, hidden_shape):\n",
    "        super().__init__()\n",
    "        self.input_shape = input_shape\n",
    "        self.output_shape = output_shape\n",
    "        self.n_layers = n_layers\n",
    "        self.hidden_shape = hidden_shape\n",
    "\n",
    "        #layers = [NaluCell(hidden_shape if n > 0 else input_shape, hidden_shape if n < n_layers - 1 else output_shape) for n in range(n_layers)]\n",
    "        layers = [NaluCell(hidden_shape if n > 0 else input_shape, hidden_shape if n < n_layers - 1 else output_shape) for n in range(n_layers)]\n",
    "        self.model = Sequential(*layers)\n",
    "\n",
    "    def forward(self, X):\n",
    "        return self.model(X)"
   ]
  },
  {
   "cell_type": "code",
   "execution_count": 14,
   "id": "884fc154",
   "metadata": {},
   "outputs": [],
   "source": [
    "class NALU(nn.Module):\n",
    "    def __init__(self):\n",
    "        super(NALU, self).__init__()\n",
    "        self.nalu1 = NaluLayer(input_shape=4, output_shape=2, n_layers=2, hidden_shape=4)\n",
    "        #self.nalu2 = NaluLayer(input_shape=2, output_shape=1, n_layers=1, hidden_shape=2)\n",
    "        #self.nalu3 = NaluLayer(input_shape=2, output_shape=1, n_layers=4, hidden_shape=2)\n",
    "        self.dense1 = nn.Linear(2, 1)\n",
    "\n",
    "    def forward(self, X):\n",
    "        #X = torch.cat([self.nalu1(X), self.nalu2(X)], dim=1)\n",
    "        X = self.nalu1(X)\n",
    "        #X = self.nalu3(torch.cat([self.nalu1(X), self.nalu2(X)], dim=1))\n",
    "        #X = self.nalu2(X)\n",
    "        X = self.dense1(X)\n",
    "        X = X.squeeze()\n",
    "\n",
    "        return X"
   ]
  },
  {
   "cell_type": "code",
   "execution_count": 7,
   "id": "948ab2ad",
   "metadata": {},
   "outputs": [],
   "source": [
    "num = 1\n",
    "n_train = 100000\n",
    "X_train = []\n",
    "y_train = []\n",
    "\n",
    "while num <= n_train:\n",
    "    A = np.random.randint(1, 50, size=(2, 2))\n",
    "    \n",
    "    if det(A) == 0:\n",
    "        continue\n",
    "    else:\n",
    "        A = A.astype(np.float32)\n",
    "        X_train.append(A)\n",
    "        y_train.append(det(A))\n",
    "        num += 1"
   ]
  },
  {
   "cell_type": "code",
   "execution_count": 8,
   "id": "f54dc3bb",
   "metadata": {},
   "outputs": [],
   "source": [
    "X_train = np.array(X_train)\n",
    "y_train = np.array(y_train)\n",
    "\n",
    "X_train = torch.from_numpy(X_train)\n",
    "X_train = X_train.reshape(n_train, 4)\n",
    "y_train = torch.from_numpy(y_train)"
   ]
  },
  {
   "cell_type": "code",
   "execution_count": 9,
   "id": "5871979b",
   "metadata": {},
   "outputs": [
    {
     "name": "stdout",
     "output_type": "stream",
     "text": [
      "torch.Size([100000, 4])\n"
     ]
    },
    {
     "data": {
      "text/plain": [
       "tensor([[23.,  4.,  2., 20.],\n",
       "        [ 1., 42., 39., 34.],\n",
       "        [27., 20.,  2., 26.],\n",
       "        ...,\n",
       "        [20., 10., 20., 40.],\n",
       "        [ 4.,  4., 20.,  9.],\n",
       "        [47., 48., 30., 25.]])"
      ]
     },
     "execution_count": 9,
     "metadata": {},
     "output_type": "execute_result"
    }
   ],
   "source": [
    "print(X_train.shape)\n",
    "X_train"
   ]
  },
  {
   "cell_type": "code",
   "execution_count": 10,
   "id": "be688a6e",
   "metadata": {},
   "outputs": [
    {
     "name": "stdout",
     "output_type": "stream",
     "text": [
      "torch.Size([100000])\n"
     ]
    },
    {
     "data": {
      "text/plain": [
       "tensor([  452., -1604.,   662.,  ...,   600.,   -44.,  -265.])"
      ]
     },
     "execution_count": 10,
     "metadata": {},
     "output_type": "execute_result"
    }
   ],
   "source": [
    "print(y_train.shape)\n",
    "y_train"
   ]
  },
  {
   "cell_type": "code",
   "execution_count": 11,
   "id": "a8d583e6",
   "metadata": {},
   "outputs": [
    {
     "data": {
      "text/plain": [
       "device(type='cuda', index=0)"
      ]
     },
     "execution_count": 11,
     "metadata": {},
     "output_type": "execute_result"
    }
   ],
   "source": [
    "device = torch.device('cuda:0' if torch.cuda.is_available() else 'cpu')\n",
    "device"
   ]
  },
  {
   "cell_type": "code",
   "execution_count": 15,
   "id": "069e6898",
   "metadata": {},
   "outputs": [],
   "source": [
    "model = NALU()"
   ]
  },
  {
   "cell_type": "code",
   "execution_count": 16,
   "id": "ef9380c3",
   "metadata": {},
   "outputs": [
    {
     "data": {
      "text/plain": [
       "tensor([[23.,  4.,  2., 20.],\n",
       "        [ 1., 42., 39., 34.],\n",
       "        [27., 20.,  2., 26.],\n",
       "        ...,\n",
       "        [20., 10., 20., 40.],\n",
       "        [ 4.,  4., 20.,  9.],\n",
       "        [47., 48., 30., 25.]], device='cuda:0')"
      ]
     },
     "execution_count": 16,
     "metadata": {},
     "output_type": "execute_result"
    }
   ],
   "source": [
    "model.to(device)\n",
    "X_train = X_train.to(device)\n",
    "y_train = y_train.to(device)\n",
    "\n",
    "X_train"
   ]
  },
  {
   "cell_type": "code",
   "execution_count": 18,
   "id": "188595a5",
   "metadata": {},
   "outputs": [
    {
     "data": {
      "text/plain": [
       "<torch.utils.data.dataset.TensorDataset at 0x7f6bd9341e20>"
      ]
     },
     "execution_count": 18,
     "metadata": {},
     "output_type": "execute_result"
    }
   ],
   "source": [
    "dataset = TensorDataset(X_train, y_train)\n",
    "dataset"
   ]
  },
  {
   "cell_type": "code",
   "execution_count": 20,
   "id": "199825e3",
   "metadata": {},
   "outputs": [],
   "source": [
    "b_size = 128\n",
    "dataloader = DataLoader(dataset, batch_size=b_size, shuffle=True)\n",
    "optimizer = optim.Adam(model.parameters(), lr=0.001)"
   ]
  },
  {
   "cell_type": "code",
   "execution_count": 21,
   "id": "f6dfdfc1",
   "metadata": {},
   "outputs": [],
   "source": [
    "epochs = 100\n",
    "cur_loss = 0.0\n",
    "epos = []\n",
    "los = []"
   ]
  },
  {
   "cell_type": "code",
   "execution_count": 25,
   "id": "9d655057",
   "metadata": {},
   "outputs": [
    {
     "name": "stderr",
     "output_type": "stream",
     "text": [
      "Epoch 1/100: 100%|████████████████████████████████████████████████████████████████████████████████████████████████████████████████████████████████████████████████| 782/782 [00:03<00:00, 205.25it/s, loss=3.39e+5]\n",
      "Epoch 2/100: 100%|████████████████████████████████████████████████████████████████████████████████████████████████████████████████████████████████████████████████| 782/782 [00:03<00:00, 227.84it/s, loss=1.31e+5]\n",
      "Epoch 3/100: 100%|████████████████████████████████████████████████████████████████████████████████████████████████████████████████████████████████████████████████| 782/782 [00:03<00:00, 228.00it/s, loss=1.06e+5]\n",
      "Epoch 4/100: 100%|█████████████████████████████████████████████████████████████████████████████████████████████████████████████████████████████████████████████████| 782/782 [00:03<00:00, 229.58it/s, loss=3.5e+4]\n",
      "Epoch 5/100: 100%|████████████████████████████████████████████████████████████████████████████████████████████████████████████████████████████████████████████████| 782/782 [00:03<00:00, 222.37it/s, loss=2.45e+4]\n",
      "Epoch 6/100: 100%|████████████████████████████████████████████████████████████████████████████████████████████████████████████████████████████████████████████████| 782/782 [00:03<00:00, 233.26it/s, loss=1.92e+4]\n",
      "Epoch 7/100: 100%|████████████████████████████████████████████████████████████████████████████████████████████████████████████████████████████████████████████████| 782/782 [00:03<00:00, 227.91it/s, loss=4.27e+4]\n",
      "Epoch 8/100: 100%|████████████████████████████████████████████████████████████████████████████████████████████████████████████████████████████████████████████████| 782/782 [00:03<00:00, 231.79it/s, loss=3.44e+4]\n",
      "Epoch 9/100: 100%|████████████████████████████████████████████████████████████████████████████████████████████████████████████████████████████████████████████████| 782/782 [00:03<00:00, 225.37it/s, loss=2.28e+4]\n",
      "Epoch 10/100: 100%|███████████████████████████████████████████████████████████████████████████████████████████████████████████████████████████████████████████████| 782/782 [00:03<00:00, 224.11it/s, loss=1.53e+4]\n",
      "Epoch 11/100: 100%|███████████████████████████████████████████████████████████████████████████████████████████████████████████████████████████████████████████████| 782/782 [00:03<00:00, 224.35it/s, loss=1.66e+4]\n",
      "Epoch 12/100: 100%|███████████████████████████████████████████████████████████████████████████████████████████████████████████████████████████████████████████████| 782/782 [00:03<00:00, 232.16it/s, loss=1.96e+4]\n",
      "Epoch 13/100: 100%|███████████████████████████████████████████████████████████████████████████████████████████████████████████████████████████████████████████████| 782/782 [00:03<00:00, 226.69it/s, loss=1.97e+4]\n",
      "Epoch 14/100: 100%|███████████████████████████████████████████████████████████████████████████████████████████████████████████████████████████████████████████████| 782/782 [00:03<00:00, 237.34it/s, loss=1.22e+4]\n",
      "Epoch 15/100: 100%|███████████████████████████████████████████████████████████████████████████████████████████████████████████████████████████████████████████████| 782/782 [00:03<00:00, 228.43it/s, loss=1.71e+4]\n",
      "Epoch 16/100: 100%|███████████████████████████████████████████████████████████████████████████████████████████████████████████████████████████████████████████████| 782/782 [00:03<00:00, 229.99it/s, loss=1.61e+4]\n",
      "Epoch 17/100: 100%|███████████████████████████████████████████████████████████████████████████████████████████████████████████████████████████████████████████████| 782/782 [00:03<00:00, 232.47it/s, loss=1.33e+4]\n",
      "Epoch 18/100: 100%|███████████████████████████████████████████████████████████████████████████████████████████████████████████████████████████████████████████████| 782/782 [00:03<00:00, 230.22it/s, loss=1.29e+4]\n",
      "Epoch 19/100: 100%|███████████████████████████████████████████████████████████████████████████████████████████████████████████████████████████████████████████████| 782/782 [00:03<00:00, 227.97it/s, loss=1.13e+4]\n",
      "Epoch 20/100: 100%|███████████████████████████████████████████████████████████████████████████████████████████████████████████████████████████████████████████████| 782/782 [00:03<00:00, 232.34it/s, loss=2.55e+4]\n",
      "Epoch 21/100: 100%|███████████████████████████████████████████████████████████████████████████████████████████████████████████████████████████████████████████████| 782/782 [00:03<00:00, 232.54it/s, loss=1.11e+4]\n",
      "Epoch 22/100: 100%|███████████████████████████████████████████████████████████████████████████████████████████████████████████████████████████████████████████████| 782/782 [00:03<00:00, 232.63it/s, loss=8.88e+3]\n",
      "Epoch 23/100: 100%|███████████████████████████████████████████████████████████████████████████████████████████████████████████████████████████████████████████████| 782/782 [00:03<00:00, 225.01it/s, loss=7.21e+3]\n",
      "Epoch 24/100: 100%|███████████████████████████████████████████████████████████████████████████████████████████████████████████████████████████████████████████████| 782/782 [00:03<00:00, 224.16it/s, loss=1.01e+4]\n",
      "Epoch 25/100: 100%|████████████████████████████████████████████████████████████████████████████████████████████████████████████████████████████████████████████████| 782/782 [00:03<00:00, 224.85it/s, loss=5.2e+3]\n",
      "Epoch 26/100: 100%|███████████████████████████████████████████████████████████████████████████████████████████████████████████████████████████████████████████████| 782/782 [00:03<00:00, 223.33it/s, loss=4.75e+3]\n",
      "Epoch 27/100: 100%|███████████████████████████████████████████████████████████████████████████████████████████████████████████████████████████████████████████████| 782/782 [00:03<00:00, 223.94it/s, loss=2.17e+3]\n",
      "Epoch 28/100: 100%|███████████████████████████████████████████████████████████████████████████████████████████████████████████████████████████████████████████████| 782/782 [00:03<00:00, 225.02it/s, loss=2.31e+3]\n",
      "Epoch 29/100: 100%|███████████████████████████████████████████████████████████████████████████████████████████████████████████████████████████████████████████████| 782/782 [00:03<00:00, 219.57it/s, loss=2.55e+3]\n",
      "Epoch 30/100: 100%|███████████████████████████████████████████████████████████████████████████████████████████████████████████████████████████████████████████████| 782/782 [00:03<00:00, 224.07it/s, loss=1.48e+3]\n",
      "Epoch 31/100: 100%|███████████████████████████████████████████████████████████████████████████████████████████████████████████████████████████████████████████████| 782/782 [00:03<00:00, 221.21it/s, loss=1.83e+3]\n",
      "Epoch 32/100: 100%|███████████████████████████████████████████████████████████████████████████████████████████████████████████████████████████████████████████████| 782/782 [00:03<00:00, 225.27it/s, loss=2.57e+3]\n",
      "Epoch 33/100: 100%|███████████████████████████████████████████████████████████████████████████████████████████████████████████████████████████████████████████████| 782/782 [00:03<00:00, 227.33it/s, loss=2.67e+3]\n",
      "Epoch 34/100: 100%|███████████████████████████████████████████████████████████████████████████████████████████████████████████████████████████████████████████████| 782/782 [00:03<00:00, 220.37it/s, loss=1.32e+3]\n",
      "Epoch 35/100: 100%|███████████████████████████████████████████████████████████████████████████████████████████████████████████████████████████████████████████████| 782/782 [00:03<00:00, 230.71it/s, loss=2.36e+3]\n",
      "Epoch 36/100: 100%|███████████████████████████████████████████████████████████████████████████████████████████████████████████████████████████████████████████████| 782/782 [00:03<00:00, 230.80it/s, loss=3.06e+3]\n",
      "Epoch 37/100: 100%|███████████████████████████████████████████████████████████████████████████████████████████████████████████████████████████████████████████████| 782/782 [00:03<00:00, 229.25it/s, loss=1.86e+3]\n",
      "Epoch 38/100: 100%|███████████████████████████████████████████████████████████████████████████████████████████████████████████████████████████████████████████████| 782/782 [00:03<00:00, 216.42it/s, loss=2.19e+3]\n"
     ]
    },
    {
     "name": "stderr",
     "output_type": "stream",
     "text": [
      "Epoch 39/100: 100%|███████████████████████████████████████████████████████████████████████████████████████████████████████████████████████████████████████████████| 782/782 [00:03<00:00, 215.60it/s, loss=2.45e+3]\n",
      "Epoch 40/100: 100%|███████████████████████████████████████████████████████████████████████████████████████████████████████████████████████████████████████████████| 782/782 [00:03<00:00, 250.87it/s, loss=2.23e+3]\n",
      "Epoch 41/100: 100%|███████████████████████████████████████████████████████████████████████████████████████████████████████████████████████████████████████████████| 782/782 [00:03<00:00, 211.06it/s, loss=1.38e+3]\n",
      "Epoch 42/100: 100%|███████████████████████████████████████████████████████████████████████████████████████████████████████████████████████████████████████████████| 782/782 [00:03<00:00, 221.36it/s, loss=2.81e+3]\n",
      "Epoch 43/100: 100%|███████████████████████████████████████████████████████████████████████████████████████████████████████████████████████████████████████████████| 782/782 [00:03<00:00, 224.42it/s, loss=2.57e+3]\n",
      "Epoch 44/100: 100%|███████████████████████████████████████████████████████████████████████████████████████████████████████████████████████████████████████████████| 782/782 [00:03<00:00, 227.86it/s, loss=1.58e+3]\n",
      "Epoch 45/100: 100%|███████████████████████████████████████████████████████████████████████████████████████████████████████████████████████████████████████████████| 782/782 [00:03<00:00, 233.77it/s, loss=2.74e+3]\n",
      "Epoch 46/100: 100%|███████████████████████████████████████████████████████████████████████████████████████████████████████████████████████████████████████████████| 782/782 [00:03<00:00, 226.53it/s, loss=1.79e+3]\n",
      "Epoch 47/100: 100%|███████████████████████████████████████████████████████████████████████████████████████████████████████████████████████████████████████████████| 782/782 [00:03<00:00, 206.84it/s, loss=2.74e+3]\n",
      "Epoch 48/100: 100%|███████████████████████████████████████████████████████████████████████████████████████████████████████████████████████████████████████████████| 782/782 [00:03<00:00, 229.18it/s, loss=1.65e+3]\n",
      "Epoch 49/100: 100%|███████████████████████████████████████████████████████████████████████████████████████████████████████████████████████████████████████████████| 782/782 [00:03<00:00, 216.91it/s, loss=1.19e+3]\n",
      "Epoch 50/100: 100%|███████████████████████████████████████████████████████████████████████████████████████████████████████████████████████████████████████████████████| 782/782 [00:03<00:00, 226.76it/s, loss=883]\n",
      "Epoch 51/100: 100%|███████████████████████████████████████████████████████████████████████████████████████████████████████████████████████████████████████████████| 782/782 [00:03<00:00, 235.12it/s, loss=2.55e+3]\n",
      "Epoch 52/100: 100%|███████████████████████████████████████████████████████████████████████████████████████████████████████████████████████████████████████████████| 782/782 [00:03<00:00, 237.88it/s, loss=2.16e+3]\n",
      "Epoch 53/100: 100%|███████████████████████████████████████████████████████████████████████████████████████████████████████████████████████████████████████████████| 782/782 [00:03<00:00, 236.51it/s, loss=1.88e+3]\n",
      "Epoch 54/100: 100%|███████████████████████████████████████████████████████████████████████████████████████████████████████████████████████████████████████████████| 782/782 [00:03<00:00, 234.20it/s, loss=2.49e+3]\n",
      "Epoch 55/100: 100%|███████████████████████████████████████████████████████████████████████████████████████████████████████████████████████████████████████████████| 782/782 [00:03<00:00, 232.63it/s, loss=1.41e+3]\n",
      "Epoch 56/100: 100%|███████████████████████████████████████████████████████████████████████████████████████████████████████████████████████████████████████████████| 782/782 [00:03<00:00, 242.21it/s, loss=3.59e+3]\n",
      "Epoch 57/100: 100%|███████████████████████████████████████████████████████████████████████████████████████████████████████████████████████████████████████████████| 782/782 [00:03<00:00, 232.90it/s, loss=1.08e+3]\n",
      "Epoch 58/100: 100%|███████████████████████████████████████████████████████████████████████████████████████████████████████████████████████████████████████████████| 782/782 [00:03<00:00, 225.77it/s, loss=2.37e+3]\n",
      "Epoch 59/100: 100%|████████████████████████████████████████████████████████████████████████████████████████████████████████████████████████████████████████████████| 782/782 [00:03<00:00, 221.54it/s, loss=1.5e+3]\n",
      "Epoch 60/100: 100%|███████████████████████████████████████████████████████████████████████████████████████████████████████████████████████████████████████████████| 782/782 [00:03<00:00, 224.70it/s, loss=3.07e+3]\n",
      "Epoch 61/100: 100%|███████████████████████████████████████████████████████████████████████████████████████████████████████████████████████████████████████████████| 782/782 [00:03<00:00, 228.73it/s, loss=1.12e+3]\n",
      "Epoch 62/100: 100%|███████████████████████████████████████████████████████████████████████████████████████████████████████████████████████████████████████████████| 782/782 [00:03<00:00, 236.20it/s, loss=1.48e+3]\n",
      "Epoch 63/100: 100%|███████████████████████████████████████████████████████████████████████████████████████████████████████████████████████████████████████████████| 782/782 [00:03<00:00, 236.24it/s, loss=1.78e+3]\n",
      "Epoch 64/100: 100%|███████████████████████████████████████████████████████████████████████████████████████████████████████████████████████████████████████████████| 782/782 [00:03<00:00, 226.54it/s, loss=1.75e+3]\n",
      "Epoch 65/100: 100%|███████████████████████████████████████████████████████████████████████████████████████████████████████████████████████████████████████████████| 782/782 [00:03<00:00, 235.43it/s, loss=1.48e+3]\n",
      "Epoch 66/100: 100%|██████████████████████████████████████████████████████████████████████████████████████████████████████████████████████████████████████████████████| 782/782 [00:03<00:00, 239.23it/s, loss=3e+3]\n",
      "Epoch 67/100: 100%|███████████████████████████████████████████████████████████████████████████████████████████████████████████████████████████████████████████████| 782/782 [00:03<00:00, 236.52it/s, loss=1.54e+3]\n",
      "Epoch 68/100: 100%|███████████████████████████████████████████████████████████████████████████████████████████████████████████████████████████████████████████████| 782/782 [00:03<00:00, 237.38it/s, loss=3.63e+3]\n",
      "Epoch 69/100: 100%|███████████████████████████████████████████████████████████████████████████████████████████████████████████████████████████████████████████████| 782/782 [00:03<00:00, 234.94it/s, loss=1.68e+3]\n",
      "Epoch 70/100: 100%|███████████████████████████████████████████████████████████████████████████████████████████████████████████████████████████████████████████████| 782/782 [00:03<00:00, 237.94it/s, loss=2.12e+3]\n",
      "Epoch 71/100: 100%|███████████████████████████████████████████████████████████████████████████████████████████████████████████████████████████████████████████████| 782/782 [00:03<00:00, 232.27it/s, loss=1.29e+3]\n",
      "Epoch 72/100: 100%|███████████████████████████████████████████████████████████████████████████████████████████████████████████████████████████████████████████████████| 782/782 [00:03<00:00, 227.84it/s, loss=714]\n",
      "Epoch 73/100: 100%|████████████████████████████████████████████████████████████████████████████████████████████████████████████████████████████████████████████████| 782/782 [00:03<00:00, 227.34it/s, loss=1.7e+3]\n",
      "Epoch 74/100: 100%|███████████████████████████████████████████████████████████████████████████████████████████████████████████████████████████████████████████████| 782/782 [00:03<00:00, 222.72it/s, loss=1.11e+3]\n",
      "Epoch 75/100: 100%|███████████████████████████████████████████████████████████████████████████████████████████████████████████████████████████████████████████████| 782/782 [00:03<00:00, 250.67it/s, loss=1.23e+3]\n",
      "Epoch 76/100: 100%|███████████████████████████████████████████████████████████████████████████████████████████████████████████████████████████████████████████████| 782/782 [00:03<00:00, 228.88it/s, loss=1.77e+3]\n"
     ]
    },
    {
     "name": "stderr",
     "output_type": "stream",
     "text": [
      "Epoch 77/100: 100%|███████████████████████████████████████████████████████████████████████████████████████████████████████████████████████████████████████████████| 782/782 [00:03<00:00, 229.07it/s, loss=1.38e+3]\n",
      "Epoch 78/100: 100%|███████████████████████████████████████████████████████████████████████████████████████████████████████████████████████████████████████████████| 782/782 [00:03<00:00, 238.35it/s, loss=1.81e+3]\n",
      "Epoch 79/100: 100%|███████████████████████████████████████████████████████████████████████████████████████████████████████████████████████████████████████████████| 782/782 [00:03<00:00, 224.07it/s, loss=1.78e+3]\n",
      "Epoch 80/100: 100%|███████████████████████████████████████████████████████████████████████████████████████████████████████████████████████████████████████████████| 782/782 [00:03<00:00, 225.83it/s, loss=2.09e+3]\n",
      "Epoch 81/100: 100%|███████████████████████████████████████████████████████████████████████████████████████████████████████████████████████████████████████████████| 782/782 [00:03<00:00, 234.71it/s, loss=1.45e+3]\n",
      "Epoch 82/100: 100%|███████████████████████████████████████████████████████████████████████████████████████████████████████████████████████████████████████████████| 782/782 [00:03<00:00, 240.10it/s, loss=1.93e+3]\n",
      "Epoch 83/100: 100%|███████████████████████████████████████████████████████████████████████████████████████████████████████████████████████████████████████████████| 782/782 [00:03<00:00, 245.59it/s, loss=1.95e+3]\n",
      "Epoch 84/100: 100%|████████████████████████████████████████████████████████████████████████████████████████████████████████████████████████████████████████████████| 782/782 [00:03<00:00, 225.41it/s, loss=1.2e+3]\n",
      "Epoch 85/100: 100%|███████████████████████████████████████████████████████████████████████████████████████████████████████████████████████████████████████████████| 782/782 [00:03<00:00, 234.40it/s, loss=1.44e+3]\n",
      "Epoch 86/100: 100%|███████████████████████████████████████████████████████████████████████████████████████████████████████████████████████████████████████████████| 782/782 [00:03<00:00, 232.51it/s, loss=1.87e+3]\n",
      "Epoch 87/100: 100%|███████████████████████████████████████████████████████████████████████████████████████████████████████████████████████████████████████████████| 782/782 [00:03<00:00, 237.23it/s, loss=1.66e+3]\n",
      "Epoch 88/100: 100%|███████████████████████████████████████████████████████████████████████████████████████████████████████████████████████████████████████████████| 782/782 [00:03<00:00, 223.90it/s, loss=2.06e+3]\n",
      "Epoch 89/100: 100%|███████████████████████████████████████████████████████████████████████████████████████████████████████████████████████████████████████████████| 782/782 [00:03<00:00, 224.25it/s, loss=1.35e+3]\n",
      "Epoch 90/100: 100%|████████████████████████████████████████████████████████████████████████████████████████████████████████████████████████████████████████████████| 782/782 [00:03<00:00, 223.62it/s, loss=2.3e+3]\n",
      "Epoch 91/100: 100%|███████████████████████████████████████████████████████████████████████████████████████████████████████████████████████████████████████████████| 782/782 [00:03<00:00, 225.10it/s, loss=1.32e+3]\n",
      "Epoch 92/100: 100%|███████████████████████████████████████████████████████████████████████████████████████████████████████████████████████████████████████████████| 782/782 [00:03<00:00, 236.43it/s, loss=1.29e+3]\n",
      "Epoch 93/100: 100%|███████████████████████████████████████████████████████████████████████████████████████████████████████████████████████████████████████████████| 782/782 [00:03<00:00, 226.72it/s, loss=1.64e+3]\n",
      "Epoch 94/100: 100%|███████████████████████████████████████████████████████████████████████████████████████████████████████████████████████████████████████████████| 782/782 [00:03<00:00, 228.43it/s, loss=1.62e+3]\n",
      "Epoch 95/100: 100%|███████████████████████████████████████████████████████████████████████████████████████████████████████████████████████████████████████████████| 782/782 [00:03<00:00, 234.89it/s, loss=1.11e+3]\n",
      "Epoch 96/100: 100%|███████████████████████████████████████████████████████████████████████████████████████████████████████████████████████████████████████████████| 782/782 [00:03<00:00, 235.14it/s, loss=1.57e+3]\n",
      "Epoch 97/100: 100%|███████████████████████████████████████████████████████████████████████████████████████████████████████████████████████████████████████████████| 782/782 [00:03<00:00, 232.57it/s, loss=2.44e+3]\n",
      "Epoch 98/100: 100%|███████████████████████████████████████████████████████████████████████████████████████████████████████████████████████████████████████████████| 782/782 [00:03<00:00, 229.57it/s, loss=1.29e+3]\n",
      "Epoch 99/100: 100%|███████████████████████████████████████████████████████████████████████████████████████████████████████████████████████████████████████████████| 782/782 [00:03<00:00, 233.95it/s, loss=1.96e+3]\n",
      "Epoch 100/100: 100%|██████████████████████████████████████████████████████████████████████████████████████████████████████████████████████████████████████████████| 782/782 [00:03<00:00, 231.15it/s, loss=1.19e+3]\n"
     ]
    }
   ],
   "source": [
    "for epoch in range(epochs):\n",
    "    with tqdm(dataloader) as tepoch:\n",
    "        for batch_idx, samples in enumerate(tepoch):\n",
    "            tepoch.set_description(f\"Epoch {epoch+1}/{epochs}\")\n",
    "            X_t, y_t = samples\n",
    "            \n",
    "            pred = model(X_t)\n",
    "            \n",
    "            pred = pred.squeeze()\n",
    "            cost = F.mse_loss(pred, y_t)\n",
    "            \n",
    "            optimizer.zero_grad()\n",
    "            cost.backward()\n",
    "            optimizer.step()\n",
    "            \n",
    "            tepoch.set_postfix(loss=cost.item())\n",
    "            cur_loss = cost.item()\n",
    "            \n",
    "        epos.append(epoch + 1)\n",
    "        los.append(cur_loss)"
   ]
  },
  {
   "cell_type": "code",
   "execution_count": 28,
   "id": "4b1110f3",
   "metadata": {},
   "outputs": [
    {
     "data": {
      "image/png": "[encoded data removed]",
      "text/plain": [
       "<Figure size 640x480 with 1 Axes>"
      ]
     },
     "metadata": {},
     "output_type": "display_data"
    }
   ],
   "source": [
    "plt.plot(epos, los, label='train')\n",
    "plt.title('model loss')\n",
    "plt.xlabel('Epoch')\n",
    "plt.ylabel('loss')\n",
    "plt.legend()\n",
    "#plt.savefig('aaa.png')\n",
    "plt.show()"
   ]
  },
  {
   "cell_type": "code",
   "execution_count": 29,
   "id": "92b79249",
   "metadata": {},
   "outputs": [],
   "source": [
    "#torch.save(model, 'aaa.pt')"
   ]
  },
  {
   "cell_type": "code",
   "execution_count": null,
   "id": "80b19a14",
   "metadata": {},
   "outputs": [],
   "source": []
  }
 ],
 "metadata": {
  "kernelspec": {
   "display_name": "Python 3 (ipykernel)",
   "language": "python",
   "name": "python3"
  },
  "language_info": {
   "codemirror_mode": {
    "name": "ipython",
    "version": 3
   },
   "file_extension": ".py",
   "mimetype": "text/x-python",
   "name": "python",
   "nbconvert_exporter": "python",
   "pygments_lexer": "ipython3",
   "version": "3.8.10"
  }
 },
 "nbformat": 4,
 "nbformat_minor": 5
}
